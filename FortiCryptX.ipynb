{
  "nbformat": 4,
  "nbformat_minor": 0,
  "metadata": {
    "colab": {
      "provenance": []
    },
    "kernelspec": {
      "name": "python3",
      "display_name": "Python 3"
    },
    "language_info": {
      "name": "python"
    },
    "widgets": {
      "application/vnd.jupyter.widget-state+json": {
        "71bbd36948d54bf780b6f80ac4c01908": {
          "model_module": "@jupyter-widgets/controls",
          "model_name": "HBoxModel",
          "model_module_version": "1.5.0",
          "state": {
            "_dom_classes": [],
            "_model_module": "@jupyter-widgets/controls",
            "_model_module_version": "1.5.0",
            "_model_name": "HBoxModel",
            "_view_count": null,
            "_view_module": "@jupyter-widgets/controls",
            "_view_module_version": "1.5.0",
            "_view_name": "HBoxView",
            "box_style": "",
            "children": [
              "IPY_MODEL_a6d16ad576934c47835e5d25ab196f0e",
              "IPY_MODEL_5398f62350164ba98b6c6e5ac491c067",
              "IPY_MODEL_ee5041248d5b40398ecf7f7969b0d4fa"
            ],
            "layout": "IPY_MODEL_3482a32205ad4714a03aca808f8d8cef"
          }
        },
        "a6d16ad576934c47835e5d25ab196f0e": {
          "model_module": "@jupyter-widgets/controls",
          "model_name": "ButtonModel",
          "model_module_version": "1.5.0",
          "state": {
            "_dom_classes": [],
            "_model_module": "@jupyter-widgets/controls",
            "_model_module_version": "1.5.0",
            "_model_name": "ButtonModel",
            "_view_count": null,
            "_view_module": "@jupyter-widgets/controls",
            "_view_module_version": "1.5.0",
            "_view_name": "ButtonView",
            "button_style": "",
            "description": "🔐 Encrypt File",
            "disabled": false,
            "icon": "",
            "layout": "IPY_MODEL_b187e3d51253481080a0bfc434e9a87e",
            "style": "IPY_MODEL_ebe8d52762d440b090bdd32961b8f474",
            "tooltip": ""
          }
        },
        "5398f62350164ba98b6c6e5ac491c067": {
          "model_module": "@jupyter-widgets/controls",
          "model_name": "ButtonModel",
          "model_module_version": "1.5.0",
          "state": {
            "_dom_classes": [],
            "_model_module": "@jupyter-widgets/controls",
            "_model_module_version": "1.5.0",
            "_model_name": "ButtonModel",
            "_view_count": null,
            "_view_module": "@jupyter-widgets/controls",
            "_view_module_version": "1.5.0",
            "_view_name": "ButtonView",
            "button_style": "",
            "description": "🔓 Decrypt File",
            "disabled": false,
            "icon": "",
            "layout": "IPY_MODEL_0420af34e2f64df39b08b975f9105f08",
            "style": "IPY_MODEL_c68d1a31bafb4ae5bac7bd2614dc2d54",
            "tooltip": ""
          }
        },
        "ee5041248d5b40398ecf7f7969b0d4fa": {
          "model_module": "@jupyter-widgets/controls",
          "model_name": "ButtonModel",
          "model_module_version": "1.5.0",
          "state": {
            "_dom_classes": [],
            "_model_module": "@jupyter-widgets/controls",
            "_model_module_version": "1.5.0",
            "_model_name": "ButtonModel",
            "_view_count": null,
            "_view_module": "@jupyter-widgets/controls",
            "_view_module_version": "1.5.0",
            "_view_name": "ButtonView",
            "button_style": "",
            "description": "📜 View Logs",
            "disabled": false,
            "icon": "",
            "layout": "IPY_MODEL_6156bde1338e491ea9c9c01eb6d25aec",
            "style": "IPY_MODEL_15fd338ea87247c9838c5499c01328cf",
            "tooltip": ""
          }
        },
        "3482a32205ad4714a03aca808f8d8cef": {
          "model_module": "@jupyter-widgets/base",
          "model_name": "LayoutModel",
          "model_module_version": "1.2.0",
          "state": {
            "_model_module": "@jupyter-widgets/base",
            "_model_module_version": "1.2.0",
            "_model_name": "LayoutModel",
            "_view_count": null,
            "_view_module": "@jupyter-widgets/base",
            "_view_module_version": "1.2.0",
            "_view_name": "LayoutView",
            "align_content": null,
            "align_items": null,
            "align_self": null,
            "border": null,
            "bottom": null,
            "display": null,
            "flex": null,
            "flex_flow": null,
            "grid_area": null,
            "grid_auto_columns": null,
            "grid_auto_flow": null,
            "grid_auto_rows": null,
            "grid_column": null,
            "grid_gap": null,
            "grid_row": null,
            "grid_template_areas": null,
            "grid_template_columns": null,
            "grid_template_rows": null,
            "height": null,
            "justify_content": null,
            "justify_items": null,
            "left": null,
            "margin": null,
            "max_height": null,
            "max_width": null,
            "min_height": null,
            "min_width": null,
            "object_fit": null,
            "object_position": null,
            "order": null,
            "overflow": null,
            "overflow_x": null,
            "overflow_y": null,
            "padding": null,
            "right": null,
            "top": null,
            "visibility": null,
            "width": null
          }
        },
        "b187e3d51253481080a0bfc434e9a87e": {
          "model_module": "@jupyter-widgets/base",
          "model_name": "LayoutModel",
          "model_module_version": "1.2.0",
          "state": {
            "_model_module": "@jupyter-widgets/base",
            "_model_module_version": "1.2.0",
            "_model_name": "LayoutModel",
            "_view_count": null,
            "_view_module": "@jupyter-widgets/base",
            "_view_module_version": "1.2.0",
            "_view_name": "LayoutView",
            "align_content": null,
            "align_items": null,
            "align_self": null,
            "border": null,
            "bottom": null,
            "display": null,
            "flex": null,
            "flex_flow": null,
            "grid_area": null,
            "grid_auto_columns": null,
            "grid_auto_flow": null,
            "grid_auto_rows": null,
            "grid_column": null,
            "grid_gap": null,
            "grid_row": null,
            "grid_template_areas": null,
            "grid_template_columns": null,
            "grid_template_rows": null,
            "height": null,
            "justify_content": null,
            "justify_items": null,
            "left": null,
            "margin": null,
            "max_height": null,
            "max_width": null,
            "min_height": null,
            "min_width": null,
            "object_fit": null,
            "object_position": null,
            "order": null,
            "overflow": null,
            "overflow_x": null,
            "overflow_y": null,
            "padding": null,
            "right": null,
            "top": null,
            "visibility": null,
            "width": null
          }
        },
        "ebe8d52762d440b090bdd32961b8f474": {
          "model_module": "@jupyter-widgets/controls",
          "model_name": "ButtonStyleModel",
          "model_module_version": "1.5.0",
          "state": {
            "_model_module": "@jupyter-widgets/controls",
            "_model_module_version": "1.5.0",
            "_model_name": "ButtonStyleModel",
            "_view_count": null,
            "_view_module": "@jupyter-widgets/base",
            "_view_module_version": "1.2.0",
            "_view_name": "StyleView",
            "button_color": null,
            "font_weight": ""
          }
        },
        "0420af34e2f64df39b08b975f9105f08": {
          "model_module": "@jupyter-widgets/base",
          "model_name": "LayoutModel",
          "model_module_version": "1.2.0",
          "state": {
            "_model_module": "@jupyter-widgets/base",
            "_model_module_version": "1.2.0",
            "_model_name": "LayoutModel",
            "_view_count": null,
            "_view_module": "@jupyter-widgets/base",
            "_view_module_version": "1.2.0",
            "_view_name": "LayoutView",
            "align_content": null,
            "align_items": null,
            "align_self": null,
            "border": null,
            "bottom": null,
            "display": null,
            "flex": null,
            "flex_flow": null,
            "grid_area": null,
            "grid_auto_columns": null,
            "grid_auto_flow": null,
            "grid_auto_rows": null,
            "grid_column": null,
            "grid_gap": null,
            "grid_row": null,
            "grid_template_areas": null,
            "grid_template_columns": null,
            "grid_template_rows": null,
            "height": null,
            "justify_content": null,
            "justify_items": null,
            "left": null,
            "margin": null,
            "max_height": null,
            "max_width": null,
            "min_height": null,
            "min_width": null,
            "object_fit": null,
            "object_position": null,
            "order": null,
            "overflow": null,
            "overflow_x": null,
            "overflow_y": null,
            "padding": null,
            "right": null,
            "top": null,
            "visibility": null,
            "width": null
          }
        },
        "c68d1a31bafb4ae5bac7bd2614dc2d54": {
          "model_module": "@jupyter-widgets/controls",
          "model_name": "ButtonStyleModel",
          "model_module_version": "1.5.0",
          "state": {
            "_model_module": "@jupyter-widgets/controls",
            "_model_module_version": "1.5.0",
            "_model_name": "ButtonStyleModel",
            "_view_count": null,
            "_view_module": "@jupyter-widgets/base",
            "_view_module_version": "1.2.0",
            "_view_name": "StyleView",
            "button_color": null,
            "font_weight": ""
          }
        },
        "6156bde1338e491ea9c9c01eb6d25aec": {
          "model_module": "@jupyter-widgets/base",
          "model_name": "LayoutModel",
          "model_module_version": "1.2.0",
          "state": {
            "_model_module": "@jupyter-widgets/base",
            "_model_module_version": "1.2.0",
            "_model_name": "LayoutModel",
            "_view_count": null,
            "_view_module": "@jupyter-widgets/base",
            "_view_module_version": "1.2.0",
            "_view_name": "LayoutView",
            "align_content": null,
            "align_items": null,
            "align_self": null,
            "border": null,
            "bottom": null,
            "display": null,
            "flex": null,
            "flex_flow": null,
            "grid_area": null,
            "grid_auto_columns": null,
            "grid_auto_flow": null,
            "grid_auto_rows": null,
            "grid_column": null,
            "grid_gap": null,
            "grid_row": null,
            "grid_template_areas": null,
            "grid_template_columns": null,
            "grid_template_rows": null,
            "height": null,
            "justify_content": null,
            "justify_items": null,
            "left": null,
            "margin": null,
            "max_height": null,
            "max_width": null,
            "min_height": null,
            "min_width": null,
            "object_fit": null,
            "object_position": null,
            "order": null,
            "overflow": null,
            "overflow_x": null,
            "overflow_y": null,
            "padding": null,
            "right": null,
            "top": null,
            "visibility": null,
            "width": null
          }
        },
        "15fd338ea87247c9838c5499c01328cf": {
          "model_module": "@jupyter-widgets/controls",
          "model_name": "ButtonStyleModel",
          "model_module_version": "1.5.0",
          "state": {
            "_model_module": "@jupyter-widgets/controls",
            "_model_module_version": "1.5.0",
            "_model_name": "ButtonStyleModel",
            "_view_count": null,
            "_view_module": "@jupyter-widgets/base",
            "_view_module_version": "1.2.0",
            "_view_name": "StyleView",
            "button_color": null,
            "font_weight": ""
          }
        },
        "765afe132b8148748020905ae879d02c": {
          "model_module": "@jupyter-widgets/output",
          "model_name": "OutputModel",
          "model_module_version": "1.0.0",
          "state": {
            "_dom_classes": [],
            "_model_module": "@jupyter-widgets/output",
            "_model_module_version": "1.0.0",
            "_model_name": "OutputModel",
            "_view_count": null,
            "_view_module": "@jupyter-widgets/output",
            "_view_module_version": "1.0.0",
            "_view_name": "OutputView",
            "layout": "IPY_MODEL_a1897e18434a41789a55b4dea7b0f536",
            "msg_id": "",
            "outputs": [
              {
                "output_type": "display_data",
                "data": {
                  "text/plain": "<IPython.core.display.Markdown object>",
                  "text/markdown": "\n### 🕒 2025-05-25T11:15:04.817930\n**Type:** encryption  \n**Details:** `{'file': 'plain.txt', 'encrypted_as': 'encrypted.dat', 'duration': 0.00839686393737793, 'key_size': 2048, 'file_size': 27}`  \n---\n"
                },
                "metadata": {}
              },
              {
                "output_type": "display_data",
                "data": {
                  "text/plain": "<IPython.core.display.Markdown object>",
                  "text/markdown": "\n### 🕒 2025-05-25T11:15:04.821593\n**Type:** decryption  \n**Details:** `{'file': 'encrypted.dat', 'decrypted_as': 'decrypted.txt', 'duration': 0.0031273365020751953, 'key_size': 2048, 'file_size': 308}`  \n---\n"
                },
                "metadata": {}
              },
              {
                "output_type": "display_data",
                "data": {
                  "text/plain": "<IPython.core.display.Markdown object>",
                  "text/markdown": "\n### 🕒 2025-05-25T11:15:14.599390\n**Type:** encryption  \n**Details:** `{'file': 'plain.txt', 'encrypted_as': 'encrypted.dat', 'duration': 1.23, 'key_size': 2048, 'file_size': 12345}`  \n---\n"
                },
                "metadata": {}
              }
            ]
          }
        },
        "a1897e18434a41789a55b4dea7b0f536": {
          "model_module": "@jupyter-widgets/base",
          "model_name": "LayoutModel",
          "model_module_version": "1.2.0",
          "state": {
            "_model_module": "@jupyter-widgets/base",
            "_model_module_version": "1.2.0",
            "_model_name": "LayoutModel",
            "_view_count": null,
            "_view_module": "@jupyter-widgets/base",
            "_view_module_version": "1.2.0",
            "_view_name": "LayoutView",
            "align_content": null,
            "align_items": null,
            "align_self": null,
            "border": null,
            "bottom": null,
            "display": null,
            "flex": null,
            "flex_flow": null,
            "grid_area": null,
            "grid_auto_columns": null,
            "grid_auto_flow": null,
            "grid_auto_rows": null,
            "grid_column": null,
            "grid_gap": null,
            "grid_row": null,
            "grid_template_areas": null,
            "grid_template_columns": null,
            "grid_template_rows": null,
            "height": null,
            "justify_content": null,
            "justify_items": null,
            "left": null,
            "margin": null,
            "max_height": null,
            "max_width": null,
            "min_height": null,
            "min_width": null,
            "object_fit": null,
            "object_position": null,
            "order": null,
            "overflow": null,
            "overflow_x": null,
            "overflow_y": null,
            "padding": null,
            "right": null,
            "top": null,
            "visibility": null,
            "width": null
          }
        },
        "864756ffe76344cf972f6cfc57d1e91d": {
          "model_module": "@jupyter-widgets/base",
          "model_name": "LayoutModel",
          "model_module_version": "1.2.0",
          "state": {
            "_model_module": "@jupyter-widgets/base",
            "_model_module_version": "1.2.0",
            "_model_name": "LayoutModel",
            "_view_count": null,
            "_view_module": "@jupyter-widgets/base",
            "_view_module_version": "1.2.0",
            "_view_name": "LayoutView",
            "align_content": null,
            "align_items": null,
            "align_self": null,
            "border": null,
            "bottom": null,
            "display": null,
            "flex": null,
            "flex_flow": null,
            "grid_area": null,
            "grid_auto_columns": null,
            "grid_auto_flow": null,
            "grid_auto_rows": null,
            "grid_column": null,
            "grid_gap": null,
            "grid_row": null,
            "grid_template_areas": null,
            "grid_template_columns": null,
            "grid_template_rows": null,
            "height": null,
            "justify_content": null,
            "justify_items": null,
            "left": null,
            "margin": null,
            "max_height": null,
            "max_width": null,
            "min_height": null,
            "min_width": null,
            "object_fit": null,
            "object_position": null,
            "order": null,
            "overflow": null,
            "overflow_x": null,
            "overflow_y": null,
            "padding": null,
            "right": null,
            "top": null,
            "visibility": null,
            "width": null
          }
        },
        "15a4f1d379f04693aac807b7de3e7ab5": {
          "model_module": "@jupyter-widgets/controls",
          "model_name": "DescriptionStyleModel",
          "model_module_version": "1.5.0",
          "state": {
            "_model_module": "@jupyter-widgets/controls",
            "_model_module_version": "1.5.0",
            "_model_name": "DescriptionStyleModel",
            "_view_count": null,
            "_view_module": "@jupyter-widgets/base",
            "_view_module_version": "1.2.0",
            "_view_name": "StyleView",
            "description_width": ""
          }
        },
        "4323510bf54547c6bc461c8c07efc180": {
          "model_module": "@jupyter-widgets/base",
          "model_name": "LayoutModel",
          "model_module_version": "1.2.0",
          "state": {
            "_model_module": "@jupyter-widgets/base",
            "_model_module_version": "1.2.0",
            "_model_name": "LayoutModel",
            "_view_count": null,
            "_view_module": "@jupyter-widgets/base",
            "_view_module_version": "1.2.0",
            "_view_name": "LayoutView",
            "align_content": null,
            "align_items": null,
            "align_self": null,
            "border": null,
            "bottom": null,
            "display": null,
            "flex": null,
            "flex_flow": null,
            "grid_area": null,
            "grid_auto_columns": null,
            "grid_auto_flow": null,
            "grid_auto_rows": null,
            "grid_column": null,
            "grid_gap": null,
            "grid_row": null,
            "grid_template_areas": null,
            "grid_template_columns": null,
            "grid_template_rows": null,
            "height": null,
            "justify_content": null,
            "justify_items": null,
            "left": null,
            "margin": null,
            "max_height": null,
            "max_width": null,
            "min_height": null,
            "min_width": null,
            "object_fit": null,
            "object_position": null,
            "order": null,
            "overflow": null,
            "overflow_x": null,
            "overflow_y": null,
            "padding": null,
            "right": null,
            "top": null,
            "visibility": null,
            "width": null
          }
        },
        "b3e0539c6933446381b6c00704c7e966": {
          "model_module": "@jupyter-widgets/controls",
          "model_name": "DescriptionStyleModel",
          "model_module_version": "1.5.0",
          "state": {
            "_model_module": "@jupyter-widgets/controls",
            "_model_module_version": "1.5.0",
            "_model_name": "DescriptionStyleModel",
            "_view_count": null,
            "_view_module": "@jupyter-widgets/base",
            "_view_module_version": "1.2.0",
            "_view_name": "StyleView",
            "description_width": ""
          }
        },
        "7255f230aaaa40ba892e07a5ecf82b78": {
          "model_module": "@jupyter-widgets/base",
          "model_name": "LayoutModel",
          "model_module_version": "1.2.0",
          "state": {
            "_model_module": "@jupyter-widgets/base",
            "_model_module_version": "1.2.0",
            "_model_name": "LayoutModel",
            "_view_count": null,
            "_view_module": "@jupyter-widgets/base",
            "_view_module_version": "1.2.0",
            "_view_name": "LayoutView",
            "align_content": null,
            "align_items": null,
            "align_self": null,
            "border": null,
            "bottom": null,
            "display": null,
            "flex": null,
            "flex_flow": null,
            "grid_area": null,
            "grid_auto_columns": null,
            "grid_auto_flow": null,
            "grid_auto_rows": null,
            "grid_column": null,
            "grid_gap": null,
            "grid_row": null,
            "grid_template_areas": null,
            "grid_template_columns": null,
            "grid_template_rows": null,
            "height": null,
            "justify_content": null,
            "justify_items": null,
            "left": null,
            "margin": null,
            "max_height": null,
            "max_width": null,
            "min_height": null,
            "min_width": null,
            "object_fit": null,
            "object_position": null,
            "order": null,
            "overflow": null,
            "overflow_x": null,
            "overflow_y": null,
            "padding": null,
            "right": null,
            "top": null,
            "visibility": null,
            "width": null
          }
        },
        "70bec7d9dc8840c4b47c815ec9d45fbe": {
          "model_module": "@jupyter-widgets/controls",
          "model_name": "DescriptionStyleModel",
          "model_module_version": "1.5.0",
          "state": {
            "_model_module": "@jupyter-widgets/controls",
            "_model_module_version": "1.5.0",
            "_model_name": "DescriptionStyleModel",
            "_view_count": null,
            "_view_module": "@jupyter-widgets/base",
            "_view_module_version": "1.2.0",
            "_view_name": "StyleView",
            "description_width": ""
          }
        },
        "2d1ffae819f242a4ae0af593f5e0fb63": {
          "model_module": "@jupyter-widgets/base",
          "model_name": "LayoutModel",
          "model_module_version": "1.2.0",
          "state": {
            "_model_module": "@jupyter-widgets/base",
            "_model_module_version": "1.2.0",
            "_model_name": "LayoutModel",
            "_view_count": null,
            "_view_module": "@jupyter-widgets/base",
            "_view_module_version": "1.2.0",
            "_view_name": "LayoutView",
            "align_content": null,
            "align_items": null,
            "align_self": null,
            "border": null,
            "bottom": null,
            "display": null,
            "flex": null,
            "flex_flow": null,
            "grid_area": null,
            "grid_auto_columns": null,
            "grid_auto_flow": null,
            "grid_auto_rows": null,
            "grid_column": null,
            "grid_gap": null,
            "grid_row": null,
            "grid_template_areas": null,
            "grid_template_columns": null,
            "grid_template_rows": null,
            "height": null,
            "justify_content": null,
            "justify_items": null,
            "left": null,
            "margin": null,
            "max_height": null,
            "max_width": null,
            "min_height": null,
            "min_width": null,
            "object_fit": null,
            "object_position": null,
            "order": null,
            "overflow": null,
            "overflow_x": null,
            "overflow_y": null,
            "padding": null,
            "right": null,
            "top": null,
            "visibility": null,
            "width": null
          }
        },
        "94d9bd7fa94e48079334ee2dee64c7e4": {
          "model_module": "@jupyter-widgets/controls",
          "model_name": "ButtonStyleModel",
          "model_module_version": "1.5.0",
          "state": {
            "_model_module": "@jupyter-widgets/controls",
            "_model_module_version": "1.5.0",
            "_model_name": "ButtonStyleModel",
            "_view_count": null,
            "_view_module": "@jupyter-widgets/base",
            "_view_module_version": "1.2.0",
            "_view_name": "StyleView",
            "button_color": null,
            "font_weight": ""
          }
        },
        "860d9cb5c3d74eb3a9ededef2da4e996": {
          "model_module": "@jupyter-widgets/base",
          "model_name": "LayoutModel",
          "model_module_version": "1.2.0",
          "state": {
            "_model_module": "@jupyter-widgets/base",
            "_model_module_version": "1.2.0",
            "_model_name": "LayoutModel",
            "_view_count": null,
            "_view_module": "@jupyter-widgets/base",
            "_view_module_version": "1.2.0",
            "_view_name": "LayoutView",
            "align_content": null,
            "align_items": null,
            "align_self": null,
            "border": null,
            "bottom": null,
            "display": null,
            "flex": null,
            "flex_flow": null,
            "grid_area": null,
            "grid_auto_columns": null,
            "grid_auto_flow": null,
            "grid_auto_rows": null,
            "grid_column": null,
            "grid_gap": null,
            "grid_row": null,
            "grid_template_areas": null,
            "grid_template_columns": null,
            "grid_template_rows": null,
            "height": null,
            "justify_content": null,
            "justify_items": null,
            "left": null,
            "margin": null,
            "max_height": null,
            "max_width": null,
            "min_height": null,
            "min_width": null,
            "object_fit": null,
            "object_position": null,
            "order": null,
            "overflow": null,
            "overflow_x": null,
            "overflow_y": null,
            "padding": null,
            "right": null,
            "top": null,
            "visibility": null,
            "width": null
          }
        },
        "dab32e873b1d4b248478826668144c22": {
          "model_module": "@jupyter-widgets/controls",
          "model_name": "TextModel",
          "model_module_version": "1.5.0",
          "state": {
            "_dom_classes": [],
            "_model_module": "@jupyter-widgets/controls",
            "_model_module_version": "1.5.0",
            "_model_name": "TextModel",
            "_view_count": null,
            "_view_module": "@jupyter-widgets/controls",
            "_view_module_version": "1.5.0",
            "_view_name": "TextView",
            "continuous_update": true,
            "description": "Input File:",
            "description_tooltip": null,
            "disabled": false,
            "layout": "IPY_MODEL_864756ffe76344cf972f6cfc57d1e91d",
            "placeholder": "​",
            "style": "IPY_MODEL_15a4f1d379f04693aac807b7de3e7ab5",
            "value": "encrypted.dat"
          }
        },
        "51b5abfd9b964d03bf951046ea97d3b5": {
          "model_module": "@jupyter-widgets/controls",
          "model_name": "TextModel",
          "model_module_version": "1.5.0",
          "state": {
            "_dom_classes": [],
            "_model_module": "@jupyter-widgets/controls",
            "_model_module_version": "1.5.0",
            "_model_name": "TextModel",
            "_view_count": null,
            "_view_module": "@jupyter-widgets/controls",
            "_view_module_version": "1.5.0",
            "_view_name": "TextView",
            "continuous_update": true,
            "description": "Output File:",
            "description_tooltip": null,
            "disabled": false,
            "layout": "IPY_MODEL_4323510bf54547c6bc461c8c07efc180",
            "placeholder": "​",
            "style": "IPY_MODEL_b3e0539c6933446381b6c00704c7e966",
            "value": "decrypted.txt"
          }
        },
        "01a2c95105644d6ba88318e456f839d4": {
          "model_module": "@jupyter-widgets/controls",
          "model_name": "TextModel",
          "model_module_version": "1.5.0",
          "state": {
            "_dom_classes": [],
            "_model_module": "@jupyter-widgets/controls",
            "_model_module_version": "1.5.0",
            "_model_name": "TextModel",
            "_view_count": null,
            "_view_module": "@jupyter-widgets/controls",
            "_view_module_version": "1.5.0",
            "_view_name": "TextView",
            "continuous_update": true,
            "description": "Compare With:",
            "description_tooltip": null,
            "disabled": false,
            "layout": "IPY_MODEL_7255f230aaaa40ba892e07a5ecf82b78",
            "placeholder": "​",
            "style": "IPY_MODEL_70bec7d9dc8840c4b47c815ec9d45fbe",
            "value": "plain.txt"
          }
        },
        "ebb6db3c206048c0a25e983baa6430a5": {
          "model_module": "@jupyter-widgets/controls",
          "model_name": "ButtonModel",
          "model_module_version": "1.5.0",
          "state": {
            "_dom_classes": [],
            "_model_module": "@jupyter-widgets/controls",
            "_model_module_version": "1.5.0",
            "_model_name": "ButtonModel",
            "_view_count": null,
            "_view_module": "@jupyter-widgets/controls",
            "_view_module_version": "1.5.0",
            "_view_name": "ButtonView",
            "button_style": "",
            "description": "🔓 Decrypt + Verify",
            "disabled": false,
            "icon": "",
            "layout": "IPY_MODEL_2d1ffae819f242a4ae0af593f5e0fb63",
            "style": "IPY_MODEL_94d9bd7fa94e48079334ee2dee64c7e4",
            "tooltip": ""
          }
        },
        "87078910e730427f9b5d9c6b22681bec": {
          "model_module": "@jupyter-widgets/output",
          "model_name": "OutputModel",
          "model_module_version": "1.0.0",
          "state": {
            "_dom_classes": [],
            "_model_module": "@jupyter-widgets/output",
            "_model_module_version": "1.0.0",
            "_model_name": "OutputModel",
            "_view_count": null,
            "_view_module": "@jupyter-widgets/output",
            "_view_module_version": "1.0.0",
            "_view_name": "OutputView",
            "layout": "IPY_MODEL_860d9cb5c3d74eb3a9ededef2da4e996",
            "msg_id": "",
            "outputs": []
          }
        },
        "6e8da71a00cf46dba60bfae68695e58b": {
          "model_module": "@jupyter-widgets/base",
          "model_name": "LayoutModel",
          "model_module_version": "1.2.0",
          "state": {
            "_model_module": "@jupyter-widgets/base",
            "_model_module_version": "1.2.0",
            "_model_name": "LayoutModel",
            "_view_count": null,
            "_view_module": "@jupyter-widgets/base",
            "_view_module_version": "1.2.0",
            "_view_name": "LayoutView",
            "align_content": null,
            "align_items": null,
            "align_self": null,
            "border": null,
            "bottom": null,
            "display": null,
            "flex": null,
            "flex_flow": null,
            "grid_area": null,
            "grid_auto_columns": null,
            "grid_auto_flow": null,
            "grid_auto_rows": null,
            "grid_column": null,
            "grid_gap": null,
            "grid_row": null,
            "grid_template_areas": null,
            "grid_template_columns": null,
            "grid_template_rows": null,
            "height": null,
            "justify_content": null,
            "justify_items": null,
            "left": null,
            "margin": null,
            "max_height": null,
            "max_width": null,
            "min_height": null,
            "min_width": null,
            "object_fit": null,
            "object_position": null,
            "order": null,
            "overflow": null,
            "overflow_x": null,
            "overflow_y": null,
            "padding": null,
            "right": null,
            "top": null,
            "visibility": null,
            "width": null
          }
        },
        "fb17f5c91a4246c0a03db866c30cc34f": {
          "model_module": "@jupyter-widgets/controls",
          "model_name": "VBoxModel",
          "model_module_version": "1.5.0",
          "state": {
            "_dom_classes": [],
            "_model_module": "@jupyter-widgets/controls",
            "_model_module_version": "1.5.0",
            "_model_name": "VBoxModel",
            "_view_count": null,
            "_view_module": "@jupyter-widgets/controls",
            "_view_module_version": "1.5.0",
            "_view_name": "VBoxView",
            "box_style": "",
            "children": [
              "IPY_MODEL_dab32e873b1d4b248478826668144c22",
              "IPY_MODEL_51b5abfd9b964d03bf951046ea97d3b5",
              "IPY_MODEL_01a2c95105644d6ba88318e456f839d4",
              "IPY_MODEL_ebb6db3c206048c0a25e983baa6430a5",
              "IPY_MODEL_87078910e730427f9b5d9c6b22681bec"
            ],
            "layout": "IPY_MODEL_6e8da71a00cf46dba60bfae68695e58b"
          }
        },
        "05d18f555e1a4fe888dbbd047fc6574d": {
          "model_module": "@jupyter-widgets/base",
          "model_name": "LayoutModel",
          "model_module_version": "1.2.0",
          "state": {
            "_model_module": "@jupyter-widgets/base",
            "_model_module_version": "1.2.0",
            "_model_name": "LayoutModel",
            "_view_count": null,
            "_view_module": "@jupyter-widgets/base",
            "_view_module_version": "1.2.0",
            "_view_name": "LayoutView",
            "align_content": null,
            "align_items": null,
            "align_self": null,
            "border": null,
            "bottom": null,
            "display": null,
            "flex": null,
            "flex_flow": null,
            "grid_area": null,
            "grid_auto_columns": null,
            "grid_auto_flow": null,
            "grid_auto_rows": null,
            "grid_column": null,
            "grid_gap": null,
            "grid_row": null,
            "grid_template_areas": null,
            "grid_template_columns": null,
            "grid_template_rows": null,
            "height": null,
            "justify_content": null,
            "justify_items": null,
            "left": null,
            "margin": null,
            "max_height": null,
            "max_width": null,
            "min_height": null,
            "min_width": null,
            "object_fit": null,
            "object_position": null,
            "order": null,
            "overflow": null,
            "overflow_x": null,
            "overflow_y": null,
            "padding": null,
            "right": null,
            "top": null,
            "visibility": null,
            "width": null
          }
        },
        "aaa0883d02af43fb8b7ca6ab8e423767": {
          "model_module": "@jupyter-widgets/controls",
          "model_name": "DescriptionStyleModel",
          "model_module_version": "1.5.0",
          "state": {
            "_model_module": "@jupyter-widgets/controls",
            "_model_module_version": "1.5.0",
            "_model_name": "DescriptionStyleModel",
            "_view_count": null,
            "_view_module": "@jupyter-widgets/base",
            "_view_module_version": "1.2.0",
            "_view_name": "StyleView",
            "description_width": ""
          }
        },
        "982904cb4fe74a979dfba0095b04e944": {
          "model_module": "@jupyter-widgets/base",
          "model_name": "LayoutModel",
          "model_module_version": "1.2.0",
          "state": {
            "_model_module": "@jupyter-widgets/base",
            "_model_module_version": "1.2.0",
            "_model_name": "LayoutModel",
            "_view_count": null,
            "_view_module": "@jupyter-widgets/base",
            "_view_module_version": "1.2.0",
            "_view_name": "LayoutView",
            "align_content": null,
            "align_items": null,
            "align_self": null,
            "border": null,
            "bottom": null,
            "display": null,
            "flex": null,
            "flex_flow": null,
            "grid_area": null,
            "grid_auto_columns": null,
            "grid_auto_flow": null,
            "grid_auto_rows": null,
            "grid_column": null,
            "grid_gap": null,
            "grid_row": null,
            "grid_template_areas": null,
            "grid_template_columns": null,
            "grid_template_rows": null,
            "height": null,
            "justify_content": null,
            "justify_items": null,
            "left": null,
            "margin": null,
            "max_height": null,
            "max_width": null,
            "min_height": null,
            "min_width": null,
            "object_fit": null,
            "object_position": null,
            "order": null,
            "overflow": null,
            "overflow_x": null,
            "overflow_y": null,
            "padding": null,
            "right": null,
            "top": null,
            "visibility": null,
            "width": null
          }
        },
        "0826454adb494fb5aa0406a5c0706205": {
          "model_module": "@jupyter-widgets/controls",
          "model_name": "DescriptionStyleModel",
          "model_module_version": "1.5.0",
          "state": {
            "_model_module": "@jupyter-widgets/controls",
            "_model_module_version": "1.5.0",
            "_model_name": "DescriptionStyleModel",
            "_view_count": null,
            "_view_module": "@jupyter-widgets/base",
            "_view_module_version": "1.2.0",
            "_view_name": "StyleView",
            "description_width": ""
          }
        },
        "bd82e0ef4f9b4c7392ab52bce2e48d2b": {
          "model_module": "@jupyter-widgets/base",
          "model_name": "LayoutModel",
          "model_module_version": "1.2.0",
          "state": {
            "_model_module": "@jupyter-widgets/base",
            "_model_module_version": "1.2.0",
            "_model_name": "LayoutModel",
            "_view_count": null,
            "_view_module": "@jupyter-widgets/base",
            "_view_module_version": "1.2.0",
            "_view_name": "LayoutView",
            "align_content": null,
            "align_items": null,
            "align_self": null,
            "border": null,
            "bottom": null,
            "display": null,
            "flex": null,
            "flex_flow": null,
            "grid_area": null,
            "grid_auto_columns": null,
            "grid_auto_flow": null,
            "grid_auto_rows": null,
            "grid_column": null,
            "grid_gap": null,
            "grid_row": null,
            "grid_template_areas": null,
            "grid_template_columns": null,
            "grid_template_rows": null,
            "height": null,
            "justify_content": null,
            "justify_items": null,
            "left": null,
            "margin": null,
            "max_height": null,
            "max_width": null,
            "min_height": null,
            "min_width": null,
            "object_fit": null,
            "object_position": null,
            "order": null,
            "overflow": null,
            "overflow_x": null,
            "overflow_y": null,
            "padding": null,
            "right": null,
            "top": null,
            "visibility": null,
            "width": null
          }
        },
        "9755e947012c4800aca9bb3b1af7c044": {
          "model_module": "@jupyter-widgets/controls",
          "model_name": "ButtonStyleModel",
          "model_module_version": "1.5.0",
          "state": {
            "_model_module": "@jupyter-widgets/controls",
            "_model_module_version": "1.5.0",
            "_model_name": "ButtonStyleModel",
            "_view_count": null,
            "_view_module": "@jupyter-widgets/base",
            "_view_module_version": "1.2.0",
            "_view_name": "StyleView",
            "button_color": null,
            "font_weight": ""
          }
        },
        "34cbac85abc342f98bd54eebd9f57b2c": {
          "model_module": "@jupyter-widgets/base",
          "model_name": "LayoutModel",
          "model_module_version": "1.2.0",
          "state": {
            "_model_module": "@jupyter-widgets/base",
            "_model_module_version": "1.2.0",
            "_model_name": "LayoutModel",
            "_view_count": null,
            "_view_module": "@jupyter-widgets/base",
            "_view_module_version": "1.2.0",
            "_view_name": "LayoutView",
            "align_content": null,
            "align_items": null,
            "align_self": null,
            "border": null,
            "bottom": null,
            "display": null,
            "flex": null,
            "flex_flow": null,
            "grid_area": null,
            "grid_auto_columns": null,
            "grid_auto_flow": null,
            "grid_auto_rows": null,
            "grid_column": null,
            "grid_gap": null,
            "grid_row": null,
            "grid_template_areas": null,
            "grid_template_columns": null,
            "grid_template_rows": null,
            "height": null,
            "justify_content": null,
            "justify_items": null,
            "left": null,
            "margin": null,
            "max_height": null,
            "max_width": null,
            "min_height": null,
            "min_width": null,
            "object_fit": null,
            "object_position": null,
            "order": null,
            "overflow": null,
            "overflow_x": null,
            "overflow_y": null,
            "padding": null,
            "right": null,
            "top": null,
            "visibility": null,
            "width": null
          }
        },
        "f3a1773675744bf583dc0c3590928976": {
          "model_module": "@jupyter-widgets/controls",
          "model_name": "TextModel",
          "model_module_version": "1.5.0",
          "state": {
            "_dom_classes": [],
            "_model_module": "@jupyter-widgets/controls",
            "_model_module_version": "1.5.0",
            "_model_name": "TextModel",
            "_view_count": null,
            "_view_module": "@jupyter-widgets/controls",
            "_view_module_version": "1.5.0",
            "_view_name": "TextView",
            "continuous_update": true,
            "description": "Input File:",
            "description_tooltip": null,
            "disabled": false,
            "layout": "IPY_MODEL_05d18f555e1a4fe888dbbd047fc6574d",
            "placeholder": "​",
            "style": "IPY_MODEL_aaa0883d02af43fb8b7ca6ab8e423767",
            "value": "plain.txt"
          }
        },
        "05c2cd82310341c6851bfca04f4b0f34": {
          "model_module": "@jupyter-widgets/controls",
          "model_name": "TextModel",
          "model_module_version": "1.5.0",
          "state": {
            "_dom_classes": [],
            "_model_module": "@jupyter-widgets/controls",
            "_model_module_version": "1.5.0",
            "_model_name": "TextModel",
            "_view_count": null,
            "_view_module": "@jupyter-widgets/controls",
            "_view_module_version": "1.5.0",
            "_view_name": "TextView",
            "continuous_update": true,
            "description": "Output File:",
            "description_tooltip": null,
            "disabled": false,
            "layout": "IPY_MODEL_982904cb4fe74a979dfba0095b04e944",
            "placeholder": "​",
            "style": "IPY_MODEL_0826454adb494fb5aa0406a5c0706205",
            "value": "encrypted.dat"
          }
        },
        "362bef3ea7b64b5b8bfce9a269c44371": {
          "model_module": "@jupyter-widgets/controls",
          "model_name": "ButtonModel",
          "model_module_version": "1.5.0",
          "state": {
            "_dom_classes": [],
            "_model_module": "@jupyter-widgets/controls",
            "_model_module_version": "1.5.0",
            "_model_name": "ButtonModel",
            "_view_count": null,
            "_view_module": "@jupyter-widgets/controls",
            "_view_module_version": "1.5.0",
            "_view_name": "ButtonView",
            "button_style": "",
            "description": "🔐 Encrypt",
            "disabled": false,
            "icon": "",
            "layout": "IPY_MODEL_bd82e0ef4f9b4c7392ab52bce2e48d2b",
            "style": "IPY_MODEL_9755e947012c4800aca9bb3b1af7c044",
            "tooltip": ""
          }
        },
        "ec6b239d17634d6ebe4ab00538aaa505": {
          "model_module": "@jupyter-widgets/output",
          "model_name": "OutputModel",
          "model_module_version": "1.0.0",
          "state": {
            "_dom_classes": [],
            "_model_module": "@jupyter-widgets/output",
            "_model_module_version": "1.0.0",
            "_model_name": "OutputModel",
            "_view_count": null,
            "_view_module": "@jupyter-widgets/output",
            "_view_module_version": "1.0.0",
            "_view_name": "OutputView",
            "layout": "IPY_MODEL_34cbac85abc342f98bd54eebd9f57b2c",
            "msg_id": "",
            "outputs": []
          }
        },
        "e09fbcd81cb54bcfb9d9652b5d1576c9": {
          "model_module": "@jupyter-widgets/base",
          "model_name": "LayoutModel",
          "model_module_version": "1.2.0",
          "state": {
            "_model_module": "@jupyter-widgets/base",
            "_model_module_version": "1.2.0",
            "_model_name": "LayoutModel",
            "_view_count": null,
            "_view_module": "@jupyter-widgets/base",
            "_view_module_version": "1.2.0",
            "_view_name": "LayoutView",
            "align_content": null,
            "align_items": null,
            "align_self": null,
            "border": null,
            "bottom": null,
            "display": null,
            "flex": null,
            "flex_flow": null,
            "grid_area": null,
            "grid_auto_columns": null,
            "grid_auto_flow": null,
            "grid_auto_rows": null,
            "grid_column": null,
            "grid_gap": null,
            "grid_row": null,
            "grid_template_areas": null,
            "grid_template_columns": null,
            "grid_template_rows": null,
            "height": null,
            "justify_content": null,
            "justify_items": null,
            "left": null,
            "margin": null,
            "max_height": null,
            "max_width": null,
            "min_height": null,
            "min_width": null,
            "object_fit": null,
            "object_position": null,
            "order": null,
            "overflow": null,
            "overflow_x": null,
            "overflow_y": null,
            "padding": null,
            "right": null,
            "top": null,
            "visibility": null,
            "width": null
          }
        },
        "d21d76a3fba24575b8b6481801161d5d": {
          "model_module": "@jupyter-widgets/controls",
          "model_name": "VBoxModel",
          "model_module_version": "1.5.0",
          "state": {
            "_dom_classes": [],
            "_model_module": "@jupyter-widgets/controls",
            "_model_module_version": "1.5.0",
            "_model_name": "VBoxModel",
            "_view_count": null,
            "_view_module": "@jupyter-widgets/controls",
            "_view_module_version": "1.5.0",
            "_view_name": "VBoxView",
            "box_style": "",
            "children": [
              "IPY_MODEL_f3a1773675744bf583dc0c3590928976",
              "IPY_MODEL_05c2cd82310341c6851bfca04f4b0f34",
              "IPY_MODEL_362bef3ea7b64b5b8bfce9a269c44371",
              "IPY_MODEL_ec6b239d17634d6ebe4ab00538aaa505"
            ],
            "layout": "IPY_MODEL_e09fbcd81cb54bcfb9d9652b5d1576c9"
          }
        },
        "2b098b2b90c14e5e92fd9a9b201ae00f": {
          "model_module": "@jupyter-widgets/base",
          "model_name": "LayoutModel",
          "model_module_version": "1.2.0",
          "state": {
            "_model_module": "@jupyter-widgets/base",
            "_model_module_version": "1.2.0",
            "_model_name": "LayoutModel",
            "_view_count": null,
            "_view_module": "@jupyter-widgets/base",
            "_view_module_version": "1.2.0",
            "_view_name": "LayoutView",
            "align_content": null,
            "align_items": null,
            "align_self": null,
            "border": null,
            "bottom": null,
            "display": null,
            "flex": null,
            "flex_flow": null,
            "grid_area": null,
            "grid_auto_columns": null,
            "grid_auto_flow": null,
            "grid_auto_rows": null,
            "grid_column": null,
            "grid_gap": null,
            "grid_row": null,
            "grid_template_areas": null,
            "grid_template_columns": null,
            "grid_template_rows": null,
            "height": null,
            "justify_content": null,
            "justify_items": null,
            "left": null,
            "margin": null,
            "max_height": null,
            "max_width": null,
            "min_height": null,
            "min_width": null,
            "object_fit": null,
            "object_position": null,
            "order": null,
            "overflow": null,
            "overflow_x": null,
            "overflow_y": null,
            "padding": null,
            "right": null,
            "top": null,
            "visibility": null,
            "width": null
          }
        },
        "751677f9838f40ddaf91be6165b2e9a9": {
          "model_module": "@jupyter-widgets/controls",
          "model_name": "DescriptionStyleModel",
          "model_module_version": "1.5.0",
          "state": {
            "_model_module": "@jupyter-widgets/controls",
            "_model_module_version": "1.5.0",
            "_model_name": "DescriptionStyleModel",
            "_view_count": null,
            "_view_module": "@jupyter-widgets/base",
            "_view_module_version": "1.2.0",
            "_view_name": "StyleView",
            "description_width": ""
          }
        },
        "72d30ec8d7494a8e86c7c2e7d2c40f86": {
          "model_module": "@jupyter-widgets/base",
          "model_name": "LayoutModel",
          "model_module_version": "1.2.0",
          "state": {
            "_model_module": "@jupyter-widgets/base",
            "_model_module_version": "1.2.0",
            "_model_name": "LayoutModel",
            "_view_count": null,
            "_view_module": "@jupyter-widgets/base",
            "_view_module_version": "1.2.0",
            "_view_name": "LayoutView",
            "align_content": null,
            "align_items": null,
            "align_self": null,
            "border": null,
            "bottom": null,
            "display": null,
            "flex": null,
            "flex_flow": null,
            "grid_area": null,
            "grid_auto_columns": null,
            "grid_auto_flow": null,
            "grid_auto_rows": null,
            "grid_column": null,
            "grid_gap": null,
            "grid_row": null,
            "grid_template_areas": null,
            "grid_template_columns": null,
            "grid_template_rows": null,
            "height": null,
            "justify_content": null,
            "justify_items": null,
            "left": null,
            "margin": null,
            "max_height": null,
            "max_width": null,
            "min_height": null,
            "min_width": null,
            "object_fit": null,
            "object_position": null,
            "order": null,
            "overflow": null,
            "overflow_x": null,
            "overflow_y": null,
            "padding": null,
            "right": null,
            "top": null,
            "visibility": null,
            "width": null
          }
        },
        "a315fe3269524af18b65c68ea21c1fa6": {
          "model_module": "@jupyter-widgets/controls",
          "model_name": "DescriptionStyleModel",
          "model_module_version": "1.5.0",
          "state": {
            "_model_module": "@jupyter-widgets/controls",
            "_model_module_version": "1.5.0",
            "_model_name": "DescriptionStyleModel",
            "_view_count": null,
            "_view_module": "@jupyter-widgets/base",
            "_view_module_version": "1.2.0",
            "_view_name": "StyleView",
            "description_width": ""
          }
        },
        "9d82bf6e135846d6858c5d71992901ae": {
          "model_module": "@jupyter-widgets/base",
          "model_name": "LayoutModel",
          "model_module_version": "1.2.0",
          "state": {
            "_model_module": "@jupyter-widgets/base",
            "_model_module_version": "1.2.0",
            "_model_name": "LayoutModel",
            "_view_count": null,
            "_view_module": "@jupyter-widgets/base",
            "_view_module_version": "1.2.0",
            "_view_name": "LayoutView",
            "align_content": null,
            "align_items": null,
            "align_self": null,
            "border": null,
            "bottom": null,
            "display": null,
            "flex": null,
            "flex_flow": null,
            "grid_area": null,
            "grid_auto_columns": null,
            "grid_auto_flow": null,
            "grid_auto_rows": null,
            "grid_column": null,
            "grid_gap": null,
            "grid_row": null,
            "grid_template_areas": null,
            "grid_template_columns": null,
            "grid_template_rows": null,
            "height": null,
            "justify_content": null,
            "justify_items": null,
            "left": null,
            "margin": null,
            "max_height": null,
            "max_width": null,
            "min_height": null,
            "min_width": null,
            "object_fit": null,
            "object_position": null,
            "order": null,
            "overflow": null,
            "overflow_x": null,
            "overflow_y": null,
            "padding": null,
            "right": null,
            "top": null,
            "visibility": null,
            "width": null
          }
        },
        "458c17c1a2554622891fe4636915816c": {
          "model_module": "@jupyter-widgets/controls",
          "model_name": "ButtonStyleModel",
          "model_module_version": "1.5.0",
          "state": {
            "_model_module": "@jupyter-widgets/controls",
            "_model_module_version": "1.5.0",
            "_model_name": "ButtonStyleModel",
            "_view_count": null,
            "_view_module": "@jupyter-widgets/base",
            "_view_module_version": "1.2.0",
            "_view_name": "StyleView",
            "button_color": null,
            "font_weight": ""
          }
        },
        "ccd174b038974f73a48a3dca58670d9a": {
          "model_module": "@jupyter-widgets/base",
          "model_name": "LayoutModel",
          "model_module_version": "1.2.0",
          "state": {
            "_model_module": "@jupyter-widgets/base",
            "_model_module_version": "1.2.0",
            "_model_name": "LayoutModel",
            "_view_count": null,
            "_view_module": "@jupyter-widgets/base",
            "_view_module_version": "1.2.0",
            "_view_name": "LayoutView",
            "align_content": null,
            "align_items": null,
            "align_self": null,
            "border": null,
            "bottom": null,
            "display": null,
            "flex": null,
            "flex_flow": null,
            "grid_area": null,
            "grid_auto_columns": null,
            "grid_auto_flow": null,
            "grid_auto_rows": null,
            "grid_column": null,
            "grid_gap": null,
            "grid_row": null,
            "grid_template_areas": null,
            "grid_template_columns": null,
            "grid_template_rows": null,
            "height": null,
            "justify_content": null,
            "justify_items": null,
            "left": null,
            "margin": null,
            "max_height": null,
            "max_width": null,
            "min_height": null,
            "min_width": null,
            "object_fit": null,
            "object_position": null,
            "order": null,
            "overflow": null,
            "overflow_x": null,
            "overflow_y": null,
            "padding": null,
            "right": null,
            "top": null,
            "visibility": null,
            "width": null
          }
        },
        "b8f4eb58c9724c62a79043e4cf579b9e": {
          "model_module": "@jupyter-widgets/controls",
          "model_name": "TextModel",
          "model_module_version": "1.5.0",
          "state": {
            "_dom_classes": [],
            "_model_module": "@jupyter-widgets/controls",
            "_model_module_version": "1.5.0",
            "_model_name": "TextModel",
            "_view_count": null,
            "_view_module": "@jupyter-widgets/controls",
            "_view_module_version": "1.5.0",
            "_view_name": "TextView",
            "continuous_update": true,
            "description": "Input File:",
            "description_tooltip": null,
            "disabled": false,
            "layout": "IPY_MODEL_2b098b2b90c14e5e92fd9a9b201ae00f",
            "placeholder": "​",
            "style": "IPY_MODEL_751677f9838f40ddaf91be6165b2e9a9",
            "value": "plain.txt"
          }
        },
        "04cc81c82ab64a9ebc22a05916a9cc3d": {
          "model_module": "@jupyter-widgets/controls",
          "model_name": "TextModel",
          "model_module_version": "1.5.0",
          "state": {
            "_dom_classes": [],
            "_model_module": "@jupyter-widgets/controls",
            "_model_module_version": "1.5.0",
            "_model_name": "TextModel",
            "_view_count": null,
            "_view_module": "@jupyter-widgets/controls",
            "_view_module_version": "1.5.0",
            "_view_name": "TextView",
            "continuous_update": true,
            "description": "Output File:",
            "description_tooltip": null,
            "disabled": false,
            "layout": "IPY_MODEL_72d30ec8d7494a8e86c7c2e7d2c40f86",
            "placeholder": "​",
            "style": "IPY_MODEL_a315fe3269524af18b65c68ea21c1fa6",
            "value": "encrypted.dat"
          }
        },
        "eedd7b22e8fd435f9e5edd8130001fc8": {
          "model_module": "@jupyter-widgets/controls",
          "model_name": "ButtonModel",
          "model_module_version": "1.5.0",
          "state": {
            "_dom_classes": [],
            "_model_module": "@jupyter-widgets/controls",
            "_model_module_version": "1.5.0",
            "_model_name": "ButtonModel",
            "_view_count": null,
            "_view_module": "@jupyter-widgets/controls",
            "_view_module_version": "1.5.0",
            "_view_name": "ButtonView",
            "button_style": "",
            "description": "🔐 Encrypt",
            "disabled": false,
            "icon": "",
            "layout": "IPY_MODEL_9d82bf6e135846d6858c5d71992901ae",
            "style": "IPY_MODEL_458c17c1a2554622891fe4636915816c",
            "tooltip": ""
          }
        },
        "441f50bf3b304fb2a198ee24e58df984": {
          "model_module": "@jupyter-widgets/output",
          "model_name": "OutputModel",
          "model_module_version": "1.0.0",
          "state": {
            "_dom_classes": [],
            "_model_module": "@jupyter-widgets/output",
            "_model_module_version": "1.0.0",
            "_model_name": "OutputModel",
            "_view_count": null,
            "_view_module": "@jupyter-widgets/output",
            "_view_module_version": "1.0.0",
            "_view_name": "OutputView",
            "layout": "IPY_MODEL_ccd174b038974f73a48a3dca58670d9a",
            "msg_id": "",
            "outputs": [
              {
                "output_type": "stream",
                "name": "stdout",
                "text": [
                  "✅ Encrypted: plain.txt → encrypted.dat\n"
                ]
              }
            ]
          }
        },
        "350ec721a61a42f4a58f8a6e00b74a2a": {
          "model_module": "@jupyter-widgets/base",
          "model_name": "LayoutModel",
          "model_module_version": "1.2.0",
          "state": {
            "_model_module": "@jupyter-widgets/base",
            "_model_module_version": "1.2.0",
            "_model_name": "LayoutModel",
            "_view_count": null,
            "_view_module": "@jupyter-widgets/base",
            "_view_module_version": "1.2.0",
            "_view_name": "LayoutView",
            "align_content": null,
            "align_items": null,
            "align_self": null,
            "border": null,
            "bottom": null,
            "display": null,
            "flex": null,
            "flex_flow": null,
            "grid_area": null,
            "grid_auto_columns": null,
            "grid_auto_flow": null,
            "grid_auto_rows": null,
            "grid_column": null,
            "grid_gap": null,
            "grid_row": null,
            "grid_template_areas": null,
            "grid_template_columns": null,
            "grid_template_rows": null,
            "height": null,
            "justify_content": null,
            "justify_items": null,
            "left": null,
            "margin": null,
            "max_height": null,
            "max_width": null,
            "min_height": null,
            "min_width": null,
            "object_fit": null,
            "object_position": null,
            "order": null,
            "overflow": null,
            "overflow_x": null,
            "overflow_y": null,
            "padding": null,
            "right": null,
            "top": null,
            "visibility": null,
            "width": null
          }
        },
        "401312731c0040ffb3d31b127acfda11": {
          "model_module": "@jupyter-widgets/controls",
          "model_name": "VBoxModel",
          "model_module_version": "1.5.0",
          "state": {
            "_dom_classes": [],
            "_model_module": "@jupyter-widgets/controls",
            "_model_module_version": "1.5.0",
            "_model_name": "VBoxModel",
            "_view_count": null,
            "_view_module": "@jupyter-widgets/controls",
            "_view_module_version": "1.5.0",
            "_view_name": "VBoxView",
            "box_style": "",
            "children": [
              "IPY_MODEL_b8f4eb58c9724c62a79043e4cf579b9e",
              "IPY_MODEL_04cc81c82ab64a9ebc22a05916a9cc3d",
              "IPY_MODEL_eedd7b22e8fd435f9e5edd8130001fc8",
              "IPY_MODEL_441f50bf3b304fb2a198ee24e58df984"
            ],
            "layout": "IPY_MODEL_350ec721a61a42f4a58f8a6e00b74a2a"
          }
        },
        "1e3433b136254d81801f0184770de2c6": {
          "model_module": "@jupyter-widgets/base",
          "model_name": "LayoutModel",
          "model_module_version": "1.2.0",
          "state": {
            "_model_module": "@jupyter-widgets/base",
            "_model_module_version": "1.2.0",
            "_model_name": "LayoutModel",
            "_view_count": null,
            "_view_module": "@jupyter-widgets/base",
            "_view_module_version": "1.2.0",
            "_view_name": "LayoutView",
            "align_content": null,
            "align_items": null,
            "align_self": null,
            "border": null,
            "bottom": null,
            "display": null,
            "flex": null,
            "flex_flow": null,
            "grid_area": null,
            "grid_auto_columns": null,
            "grid_auto_flow": null,
            "grid_auto_rows": null,
            "grid_column": null,
            "grid_gap": null,
            "grid_row": null,
            "grid_template_areas": null,
            "grid_template_columns": null,
            "grid_template_rows": null,
            "height": null,
            "justify_content": null,
            "justify_items": null,
            "left": null,
            "margin": null,
            "max_height": null,
            "max_width": null,
            "min_height": null,
            "min_width": null,
            "object_fit": null,
            "object_position": null,
            "order": null,
            "overflow": null,
            "overflow_x": null,
            "overflow_y": null,
            "padding": null,
            "right": null,
            "top": null,
            "visibility": null,
            "width": null
          }
        },
        "b867465f89c040808194267efd47f492": {
          "model_module": "@jupyter-widgets/controls",
          "model_name": "DescriptionStyleModel",
          "model_module_version": "1.5.0",
          "state": {
            "_model_module": "@jupyter-widgets/controls",
            "_model_module_version": "1.5.0",
            "_model_name": "DescriptionStyleModel",
            "_view_count": null,
            "_view_module": "@jupyter-widgets/base",
            "_view_module_version": "1.2.0",
            "_view_name": "StyleView",
            "description_width": ""
          }
        },
        "39b11d5dd473482a94183656eb37e99e": {
          "model_module": "@jupyter-widgets/base",
          "model_name": "LayoutModel",
          "model_module_version": "1.2.0",
          "state": {
            "_model_module": "@jupyter-widgets/base",
            "_model_module_version": "1.2.0",
            "_model_name": "LayoutModel",
            "_view_count": null,
            "_view_module": "@jupyter-widgets/base",
            "_view_module_version": "1.2.0",
            "_view_name": "LayoutView",
            "align_content": null,
            "align_items": null,
            "align_self": null,
            "border": null,
            "bottom": null,
            "display": null,
            "flex": null,
            "flex_flow": null,
            "grid_area": null,
            "grid_auto_columns": null,
            "grid_auto_flow": null,
            "grid_auto_rows": null,
            "grid_column": null,
            "grid_gap": null,
            "grid_row": null,
            "grid_template_areas": null,
            "grid_template_columns": null,
            "grid_template_rows": null,
            "height": null,
            "justify_content": null,
            "justify_items": null,
            "left": null,
            "margin": null,
            "max_height": null,
            "max_width": null,
            "min_height": null,
            "min_width": null,
            "object_fit": null,
            "object_position": null,
            "order": null,
            "overflow": null,
            "overflow_x": null,
            "overflow_y": null,
            "padding": null,
            "right": null,
            "top": null,
            "visibility": null,
            "width": null
          }
        },
        "edf0a78865ae4b31a8397069f05e1e5d": {
          "model_module": "@jupyter-widgets/controls",
          "model_name": "DescriptionStyleModel",
          "model_module_version": "1.5.0",
          "state": {
            "_model_module": "@jupyter-widgets/controls",
            "_model_module_version": "1.5.0",
            "_model_name": "DescriptionStyleModel",
            "_view_count": null,
            "_view_module": "@jupyter-widgets/base",
            "_view_module_version": "1.2.0",
            "_view_name": "StyleView",
            "description_width": ""
          }
        },
        "3eaae2d181124b459181cdda8885043f": {
          "model_module": "@jupyter-widgets/base",
          "model_name": "LayoutModel",
          "model_module_version": "1.2.0",
          "state": {
            "_model_module": "@jupyter-widgets/base",
            "_model_module_version": "1.2.0",
            "_model_name": "LayoutModel",
            "_view_count": null,
            "_view_module": "@jupyter-widgets/base",
            "_view_module_version": "1.2.0",
            "_view_name": "LayoutView",
            "align_content": null,
            "align_items": null,
            "align_self": null,
            "border": null,
            "bottom": null,
            "display": null,
            "flex": null,
            "flex_flow": null,
            "grid_area": null,
            "grid_auto_columns": null,
            "grid_auto_flow": null,
            "grid_auto_rows": null,
            "grid_column": null,
            "grid_gap": null,
            "grid_row": null,
            "grid_template_areas": null,
            "grid_template_columns": null,
            "grid_template_rows": null,
            "height": null,
            "justify_content": null,
            "justify_items": null,
            "left": null,
            "margin": null,
            "max_height": null,
            "max_width": null,
            "min_height": null,
            "min_width": null,
            "object_fit": null,
            "object_position": null,
            "order": null,
            "overflow": null,
            "overflow_x": null,
            "overflow_y": null,
            "padding": null,
            "right": null,
            "top": null,
            "visibility": null,
            "width": null
          }
        },
        "c0d3ee25339049f0807a12ed69657534": {
          "model_module": "@jupyter-widgets/controls",
          "model_name": "DescriptionStyleModel",
          "model_module_version": "1.5.0",
          "state": {
            "_model_module": "@jupyter-widgets/controls",
            "_model_module_version": "1.5.0",
            "_model_name": "DescriptionStyleModel",
            "_view_count": null,
            "_view_module": "@jupyter-widgets/base",
            "_view_module_version": "1.2.0",
            "_view_name": "StyleView",
            "description_width": ""
          }
        },
        "70d7d991d8114de3917cc4605d994cc5": {
          "model_module": "@jupyter-widgets/base",
          "model_name": "LayoutModel",
          "model_module_version": "1.2.0",
          "state": {
            "_model_module": "@jupyter-widgets/base",
            "_model_module_version": "1.2.0",
            "_model_name": "LayoutModel",
            "_view_count": null,
            "_view_module": "@jupyter-widgets/base",
            "_view_module_version": "1.2.0",
            "_view_name": "LayoutView",
            "align_content": null,
            "align_items": null,
            "align_self": null,
            "border": null,
            "bottom": null,
            "display": null,
            "flex": null,
            "flex_flow": null,
            "grid_area": null,
            "grid_auto_columns": null,
            "grid_auto_flow": null,
            "grid_auto_rows": null,
            "grid_column": null,
            "grid_gap": null,
            "grid_row": null,
            "grid_template_areas": null,
            "grid_template_columns": null,
            "grid_template_rows": null,
            "height": null,
            "justify_content": null,
            "justify_items": null,
            "left": null,
            "margin": null,
            "max_height": null,
            "max_width": null,
            "min_height": null,
            "min_width": null,
            "object_fit": null,
            "object_position": null,
            "order": null,
            "overflow": null,
            "overflow_x": null,
            "overflow_y": null,
            "padding": null,
            "right": null,
            "top": null,
            "visibility": null,
            "width": null
          }
        },
        "938c88a29eb745438d07ba70143b397e": {
          "model_module": "@jupyter-widgets/controls",
          "model_name": "ButtonStyleModel",
          "model_module_version": "1.5.0",
          "state": {
            "_model_module": "@jupyter-widgets/controls",
            "_model_module_version": "1.5.0",
            "_model_name": "ButtonStyleModel",
            "_view_count": null,
            "_view_module": "@jupyter-widgets/base",
            "_view_module_version": "1.2.0",
            "_view_name": "StyleView",
            "button_color": null,
            "font_weight": ""
          }
        },
        "07b88c54704e4536a6af227315de3b7e": {
          "model_module": "@jupyter-widgets/base",
          "model_name": "LayoutModel",
          "model_module_version": "1.2.0",
          "state": {
            "_model_module": "@jupyter-widgets/base",
            "_model_module_version": "1.2.0",
            "_model_name": "LayoutModel",
            "_view_count": null,
            "_view_module": "@jupyter-widgets/base",
            "_view_module_version": "1.2.0",
            "_view_name": "LayoutView",
            "align_content": null,
            "align_items": null,
            "align_self": null,
            "border": null,
            "bottom": null,
            "display": null,
            "flex": null,
            "flex_flow": null,
            "grid_area": null,
            "grid_auto_columns": null,
            "grid_auto_flow": null,
            "grid_auto_rows": null,
            "grid_column": null,
            "grid_gap": null,
            "grid_row": null,
            "grid_template_areas": null,
            "grid_template_columns": null,
            "grid_template_rows": null,
            "height": null,
            "justify_content": null,
            "justify_items": null,
            "left": null,
            "margin": null,
            "max_height": null,
            "max_width": null,
            "min_height": null,
            "min_width": null,
            "object_fit": null,
            "object_position": null,
            "order": null,
            "overflow": null,
            "overflow_x": null,
            "overflow_y": null,
            "padding": null,
            "right": null,
            "top": null,
            "visibility": null,
            "width": null
          }
        },
        "e6bc759791d94c9c82f35c1a2a59649c": {
          "model_module": "@jupyter-widgets/controls",
          "model_name": "TextModel",
          "model_module_version": "1.5.0",
          "state": {
            "_dom_classes": [],
            "_model_module": "@jupyter-widgets/controls",
            "_model_module_version": "1.5.0",
            "_model_name": "TextModel",
            "_view_count": null,
            "_view_module": "@jupyter-widgets/controls",
            "_view_module_version": "1.5.0",
            "_view_name": "TextView",
            "continuous_update": true,
            "description": "Input File:",
            "description_tooltip": null,
            "disabled": false,
            "layout": "IPY_MODEL_1e3433b136254d81801f0184770de2c6",
            "placeholder": "​",
            "style": "IPY_MODEL_b867465f89c040808194267efd47f492",
            "value": "encrypted.dat"
          }
        },
        "8acbdcd8ca7d4fedb0dbc6da800da05e": {
          "model_module": "@jupyter-widgets/controls",
          "model_name": "TextModel",
          "model_module_version": "1.5.0",
          "state": {
            "_dom_classes": [],
            "_model_module": "@jupyter-widgets/controls",
            "_model_module_version": "1.5.0",
            "_model_name": "TextModel",
            "_view_count": null,
            "_view_module": "@jupyter-widgets/controls",
            "_view_module_version": "1.5.0",
            "_view_name": "TextView",
            "continuous_update": true,
            "description": "Output File:",
            "description_tooltip": null,
            "disabled": false,
            "layout": "IPY_MODEL_39b11d5dd473482a94183656eb37e99e",
            "placeholder": "​",
            "style": "IPY_MODEL_edf0a78865ae4b31a8397069f05e1e5d",
            "value": "decrypted.txt"
          }
        },
        "29f65201018b4fc796e8aab7941664d2": {
          "model_module": "@jupyter-widgets/controls",
          "model_name": "TextModel",
          "model_module_version": "1.5.0",
          "state": {
            "_dom_classes": [],
            "_model_module": "@jupyter-widgets/controls",
            "_model_module_version": "1.5.0",
            "_model_name": "TextModel",
            "_view_count": null,
            "_view_module": "@jupyter-widgets/controls",
            "_view_module_version": "1.5.0",
            "_view_name": "TextView",
            "continuous_update": true,
            "description": "Compare With:",
            "description_tooltip": null,
            "disabled": false,
            "layout": "IPY_MODEL_3eaae2d181124b459181cdda8885043f",
            "placeholder": "​",
            "style": "IPY_MODEL_c0d3ee25339049f0807a12ed69657534",
            "value": "plain.txt"
          }
        },
        "9509d7d9d6f946eeb0d1dfb37b2fee97": {
          "model_module": "@jupyter-widgets/controls",
          "model_name": "ButtonModel",
          "model_module_version": "1.5.0",
          "state": {
            "_dom_classes": [],
            "_model_module": "@jupyter-widgets/controls",
            "_model_module_version": "1.5.0",
            "_model_name": "ButtonModel",
            "_view_count": null,
            "_view_module": "@jupyter-widgets/controls",
            "_view_module_version": "1.5.0",
            "_view_name": "ButtonView",
            "button_style": "",
            "description": "🔓 Decrypt + Verify",
            "disabled": false,
            "icon": "",
            "layout": "IPY_MODEL_70d7d991d8114de3917cc4605d994cc5",
            "style": "IPY_MODEL_938c88a29eb745438d07ba70143b397e",
            "tooltip": ""
          }
        },
        "10063d081ec0433ca907e09ec51be19d": {
          "model_module": "@jupyter-widgets/output",
          "model_name": "OutputModel",
          "model_module_version": "1.0.0",
          "state": {
            "_dom_classes": [],
            "_model_module": "@jupyter-widgets/output",
            "_model_module_version": "1.0.0",
            "_model_name": "OutputModel",
            "_view_count": null,
            "_view_module": "@jupyter-widgets/output",
            "_view_module_version": "1.0.0",
            "_view_name": "OutputView",
            "layout": "IPY_MODEL_07b88c54704e4536a6af227315de3b7e",
            "msg_id": "",
            "outputs": [
              {
                "output_type": "stream",
                "name": "stdout",
                "text": [
                  "✅ Decrypted: encrypted.dat → decrypted.txt\n",
                  "🔐 Integrity Check: ✅ Match\n"
                ]
              }
            ]
          }
        },
        "88e710cfe85d417fa40a2063598a2ee6": {
          "model_module": "@jupyter-widgets/base",
          "model_name": "LayoutModel",
          "model_module_version": "1.2.0",
          "state": {
            "_model_module": "@jupyter-widgets/base",
            "_model_module_version": "1.2.0",
            "_model_name": "LayoutModel",
            "_view_count": null,
            "_view_module": "@jupyter-widgets/base",
            "_view_module_version": "1.2.0",
            "_view_name": "LayoutView",
            "align_content": null,
            "align_items": null,
            "align_self": null,
            "border": null,
            "bottom": null,
            "display": null,
            "flex": null,
            "flex_flow": null,
            "grid_area": null,
            "grid_auto_columns": null,
            "grid_auto_flow": null,
            "grid_auto_rows": null,
            "grid_column": null,
            "grid_gap": null,
            "grid_row": null,
            "grid_template_areas": null,
            "grid_template_columns": null,
            "grid_template_rows": null,
            "height": null,
            "justify_content": null,
            "justify_items": null,
            "left": null,
            "margin": null,
            "max_height": null,
            "max_width": null,
            "min_height": null,
            "min_width": null,
            "object_fit": null,
            "object_position": null,
            "order": null,
            "overflow": null,
            "overflow_x": null,
            "overflow_y": null,
            "padding": null,
            "right": null,
            "top": null,
            "visibility": null,
            "width": null
          }
        },
        "17cd90e3c6a540dbb1625fee775ffb0d": {
          "model_module": "@jupyter-widgets/controls",
          "model_name": "VBoxModel",
          "model_module_version": "1.5.0",
          "state": {
            "_dom_classes": [],
            "_model_module": "@jupyter-widgets/controls",
            "_model_module_version": "1.5.0",
            "_model_name": "VBoxModel",
            "_view_count": null,
            "_view_module": "@jupyter-widgets/controls",
            "_view_module_version": "1.5.0",
            "_view_name": "VBoxView",
            "box_style": "",
            "children": [
              "IPY_MODEL_e6bc759791d94c9c82f35c1a2a59649c",
              "IPY_MODEL_8acbdcd8ca7d4fedb0dbc6da800da05e",
              "IPY_MODEL_29f65201018b4fc796e8aab7941664d2",
              "IPY_MODEL_9509d7d9d6f946eeb0d1dfb37b2fee97",
              "IPY_MODEL_10063d081ec0433ca907e09ec51be19d"
            ],
            "layout": "IPY_MODEL_88e710cfe85d417fa40a2063598a2ee6"
          }
        }
      }
    }
  },
  "cells": [
    {
      "cell_type": "code",
      "source": [
        "!pip install cryptography scikit-learn fpdf tabulate ipywidgets\n",
        "from google.colab import output\n",
        "output.enable_custom_widget_manager()\n"
      ],
      "metadata": {
        "colab": {
          "base_uri": "https://localhost:8080/"
        },
        "id": "UUQnO7FrWN5s",
        "outputId": "40788e15-9ff2-411f-80f1-267c8d609c4c"
      },
      "execution_count": 29,
      "outputs": [
        {
          "output_type": "stream",
          "name": "stdout",
          "text": [
            "Requirement already satisfied: cryptography in /usr/local/lib/python3.11/dist-packages (43.0.3)\n",
            "Requirement already satisfied: scikit-learn in /usr/local/lib/python3.11/dist-packages (1.6.1)\n",
            "Collecting fpdf\n",
            "  Downloading fpdf-1.7.2.tar.gz (39 kB)\n",
            "  Preparing metadata (setup.py) ... \u001b[?25l\u001b[?25hdone\n",
            "Requirement already satisfied: tabulate in /usr/local/lib/python3.11/dist-packages (0.9.0)\n",
            "Requirement already satisfied: ipywidgets in /usr/local/lib/python3.11/dist-packages (7.7.1)\n",
            "Requirement already satisfied: cffi>=1.12 in /usr/local/lib/python3.11/dist-packages (from cryptography) (1.17.1)\n",
            "Requirement already satisfied: numpy>=1.19.5 in /usr/local/lib/python3.11/dist-packages (from scikit-learn) (2.0.2)\n",
            "Requirement already satisfied: scipy>=1.6.0 in /usr/local/lib/python3.11/dist-packages (from scikit-learn) (1.15.3)\n",
            "Requirement already satisfied: joblib>=1.2.0 in /usr/local/lib/python3.11/dist-packages (from scikit-learn) (1.5.0)\n",
            "Requirement already satisfied: threadpoolctl>=3.1.0 in /usr/local/lib/python3.11/dist-packages (from scikit-learn) (3.6.0)\n",
            "Requirement already satisfied: ipykernel>=4.5.1 in /usr/local/lib/python3.11/dist-packages (from ipywidgets) (6.17.1)\n",
            "Requirement already satisfied: ipython-genutils~=0.2.0 in /usr/local/lib/python3.11/dist-packages (from ipywidgets) (0.2.0)\n",
            "Requirement already satisfied: traitlets>=4.3.1 in /usr/local/lib/python3.11/dist-packages (from ipywidgets) (5.7.1)\n",
            "Requirement already satisfied: widgetsnbextension~=3.6.0 in /usr/local/lib/python3.11/dist-packages (from ipywidgets) (3.6.10)\n",
            "Requirement already satisfied: ipython>=4.0.0 in /usr/local/lib/python3.11/dist-packages (from ipywidgets) (7.34.0)\n",
            "Requirement already satisfied: jupyterlab-widgets>=1.0.0 in /usr/local/lib/python3.11/dist-packages (from ipywidgets) (3.0.15)\n",
            "Requirement already satisfied: pycparser in /usr/local/lib/python3.11/dist-packages (from cffi>=1.12->cryptography) (2.22)\n",
            "Requirement already satisfied: debugpy>=1.0 in /usr/local/lib/python3.11/dist-packages (from ipykernel>=4.5.1->ipywidgets) (1.8.0)\n",
            "Requirement already satisfied: jupyter-client>=6.1.12 in /usr/local/lib/python3.11/dist-packages (from ipykernel>=4.5.1->ipywidgets) (6.1.12)\n",
            "Requirement already satisfied: matplotlib-inline>=0.1 in /usr/local/lib/python3.11/dist-packages (from ipykernel>=4.5.1->ipywidgets) (0.1.7)\n",
            "Requirement already satisfied: nest-asyncio in /usr/local/lib/python3.11/dist-packages (from ipykernel>=4.5.1->ipywidgets) (1.6.0)\n",
            "Requirement already satisfied: packaging in /usr/local/lib/python3.11/dist-packages (from ipykernel>=4.5.1->ipywidgets) (24.2)\n",
            "Requirement already satisfied: psutil in /usr/local/lib/python3.11/dist-packages (from ipykernel>=4.5.1->ipywidgets) (5.9.5)\n",
            "Requirement already satisfied: pyzmq>=17 in /usr/local/lib/python3.11/dist-packages (from ipykernel>=4.5.1->ipywidgets) (24.0.1)\n",
            "Requirement already satisfied: tornado>=6.1 in /usr/local/lib/python3.11/dist-packages (from ipykernel>=4.5.1->ipywidgets) (6.4.2)\n",
            "Requirement already satisfied: setuptools>=18.5 in /usr/local/lib/python3.11/dist-packages (from ipython>=4.0.0->ipywidgets) (75.2.0)\n",
            "Collecting jedi>=0.16 (from ipython>=4.0.0->ipywidgets)\n",
            "  Downloading jedi-0.19.2-py2.py3-none-any.whl.metadata (22 kB)\n",
            "Requirement already satisfied: decorator in /usr/local/lib/python3.11/dist-packages (from ipython>=4.0.0->ipywidgets) (4.4.2)\n",
            "Requirement already satisfied: pickleshare in /usr/local/lib/python3.11/dist-packages (from ipython>=4.0.0->ipywidgets) (0.7.5)\n",
            "Requirement already satisfied: prompt-toolkit!=3.0.0,!=3.0.1,<3.1.0,>=2.0.0 in /usr/local/lib/python3.11/dist-packages (from ipython>=4.0.0->ipywidgets) (3.0.51)\n",
            "Requirement already satisfied: pygments in /usr/local/lib/python3.11/dist-packages (from ipython>=4.0.0->ipywidgets) (2.19.1)\n",
            "Requirement already satisfied: backcall in /usr/local/lib/python3.11/dist-packages (from ipython>=4.0.0->ipywidgets) (0.2.0)\n",
            "Requirement already satisfied: pexpect>4.3 in /usr/local/lib/python3.11/dist-packages (from ipython>=4.0.0->ipywidgets) (4.9.0)\n",
            "Requirement already satisfied: notebook>=4.4.1 in /usr/local/lib/python3.11/dist-packages (from widgetsnbextension~=3.6.0->ipywidgets) (6.5.7)\n",
            "Requirement already satisfied: parso<0.9.0,>=0.8.4 in /usr/local/lib/python3.11/dist-packages (from jedi>=0.16->ipython>=4.0.0->ipywidgets) (0.8.4)\n",
            "Requirement already satisfied: jupyter-core>=4.6.0 in /usr/local/lib/python3.11/dist-packages (from jupyter-client>=6.1.12->ipykernel>=4.5.1->ipywidgets) (5.7.2)\n",
            "Requirement already satisfied: python-dateutil>=2.1 in /usr/local/lib/python3.11/dist-packages (from jupyter-client>=6.1.12->ipykernel>=4.5.1->ipywidgets) (2.9.0.post0)\n",
            "Requirement already satisfied: jinja2 in /usr/local/lib/python3.11/dist-packages (from notebook>=4.4.1->widgetsnbextension~=3.6.0->ipywidgets) (3.1.6)\n",
            "Requirement already satisfied: argon2-cffi in /usr/local/lib/python3.11/dist-packages (from notebook>=4.4.1->widgetsnbextension~=3.6.0->ipywidgets) (23.1.0)\n",
            "Requirement already satisfied: nbformat in /usr/local/lib/python3.11/dist-packages (from notebook>=4.4.1->widgetsnbextension~=3.6.0->ipywidgets) (5.10.4)\n",
            "Requirement already satisfied: nbconvert>=5 in /usr/local/lib/python3.11/dist-packages (from notebook>=4.4.1->widgetsnbextension~=3.6.0->ipywidgets) (7.16.6)\n",
            "Requirement already satisfied: Send2Trash>=1.8.0 in /usr/local/lib/python3.11/dist-packages (from notebook>=4.4.1->widgetsnbextension~=3.6.0->ipywidgets) (1.8.3)\n",
            "Requirement already satisfied: terminado>=0.8.3 in /usr/local/lib/python3.11/dist-packages (from notebook>=4.4.1->widgetsnbextension~=3.6.0->ipywidgets) (0.18.1)\n",
            "Requirement already satisfied: prometheus-client in /usr/local/lib/python3.11/dist-packages (from notebook>=4.4.1->widgetsnbextension~=3.6.0->ipywidgets) (0.21.1)\n",
            "Requirement already satisfied: nbclassic>=0.4.7 in /usr/local/lib/python3.11/dist-packages (from notebook>=4.4.1->widgetsnbextension~=3.6.0->ipywidgets) (1.3.1)\n",
            "Requirement already satisfied: ptyprocess>=0.5 in /usr/local/lib/python3.11/dist-packages (from pexpect>4.3->ipython>=4.0.0->ipywidgets) (0.7.0)\n",
            "Requirement already satisfied: wcwidth in /usr/local/lib/python3.11/dist-packages (from prompt-toolkit!=3.0.0,!=3.0.1,<3.1.0,>=2.0.0->ipython>=4.0.0->ipywidgets) (0.2.13)\n",
            "Requirement already satisfied: platformdirs>=2.5 in /usr/local/lib/python3.11/dist-packages (from jupyter-core>=4.6.0->jupyter-client>=6.1.12->ipykernel>=4.5.1->ipywidgets) (4.3.8)\n",
            "Requirement already satisfied: notebook-shim>=0.2.3 in /usr/local/lib/python3.11/dist-packages (from nbclassic>=0.4.7->notebook>=4.4.1->widgetsnbextension~=3.6.0->ipywidgets) (0.2.4)\n",
            "Requirement already satisfied: beautifulsoup4 in /usr/local/lib/python3.11/dist-packages (from nbconvert>=5->notebook>=4.4.1->widgetsnbextension~=3.6.0->ipywidgets) (4.13.4)\n",
            "Requirement already satisfied: bleach!=5.0.0 in /usr/local/lib/python3.11/dist-packages (from bleach[css]!=5.0.0->nbconvert>=5->notebook>=4.4.1->widgetsnbextension~=3.6.0->ipywidgets) (6.2.0)\n",
            "Requirement already satisfied: defusedxml in /usr/local/lib/python3.11/dist-packages (from nbconvert>=5->notebook>=4.4.1->widgetsnbextension~=3.6.0->ipywidgets) (0.7.1)\n",
            "Requirement already satisfied: jupyterlab-pygments in /usr/local/lib/python3.11/dist-packages (from nbconvert>=5->notebook>=4.4.1->widgetsnbextension~=3.6.0->ipywidgets) (0.3.0)\n",
            "Requirement already satisfied: markupsafe>=2.0 in /usr/local/lib/python3.11/dist-packages (from nbconvert>=5->notebook>=4.4.1->widgetsnbextension~=3.6.0->ipywidgets) (3.0.2)\n",
            "Requirement already satisfied: mistune<4,>=2.0.3 in /usr/local/lib/python3.11/dist-packages (from nbconvert>=5->notebook>=4.4.1->widgetsnbextension~=3.6.0->ipywidgets) (3.1.3)\n",
            "Requirement already satisfied: nbclient>=0.5.0 in /usr/local/lib/python3.11/dist-packages (from nbconvert>=5->notebook>=4.4.1->widgetsnbextension~=3.6.0->ipywidgets) (0.10.2)\n",
            "Requirement already satisfied: pandocfilters>=1.4.1 in /usr/local/lib/python3.11/dist-packages (from nbconvert>=5->notebook>=4.4.1->widgetsnbextension~=3.6.0->ipywidgets) (1.5.1)\n",
            "Requirement already satisfied: fastjsonschema>=2.15 in /usr/local/lib/python3.11/dist-packages (from nbformat->notebook>=4.4.1->widgetsnbextension~=3.6.0->ipywidgets) (2.21.1)\n",
            "Requirement already satisfied: jsonschema>=2.6 in /usr/local/lib/python3.11/dist-packages (from nbformat->notebook>=4.4.1->widgetsnbextension~=3.6.0->ipywidgets) (4.23.0)\n",
            "Requirement already satisfied: six>=1.5 in /usr/local/lib/python3.11/dist-packages (from python-dateutil>=2.1->jupyter-client>=6.1.12->ipykernel>=4.5.1->ipywidgets) (1.17.0)\n",
            "Requirement already satisfied: argon2-cffi-bindings in /usr/local/lib/python3.11/dist-packages (from argon2-cffi->notebook>=4.4.1->widgetsnbextension~=3.6.0->ipywidgets) (21.2.0)\n",
            "Requirement already satisfied: webencodings in /usr/local/lib/python3.11/dist-packages (from bleach!=5.0.0->bleach[css]!=5.0.0->nbconvert>=5->notebook>=4.4.1->widgetsnbextension~=3.6.0->ipywidgets) (0.5.1)\n",
            "Requirement already satisfied: tinycss2<1.5,>=1.1.0 in /usr/local/lib/python3.11/dist-packages (from bleach[css]!=5.0.0->nbconvert>=5->notebook>=4.4.1->widgetsnbextension~=3.6.0->ipywidgets) (1.4.0)\n",
            "Requirement already satisfied: attrs>=22.2.0 in /usr/local/lib/python3.11/dist-packages (from jsonschema>=2.6->nbformat->notebook>=4.4.1->widgetsnbextension~=3.6.0->ipywidgets) (25.3.0)\n",
            "Requirement already satisfied: jsonschema-specifications>=2023.03.6 in /usr/local/lib/python3.11/dist-packages (from jsonschema>=2.6->nbformat->notebook>=4.4.1->widgetsnbextension~=3.6.0->ipywidgets) (2025.4.1)\n",
            "Requirement already satisfied: referencing>=0.28.4 in /usr/local/lib/python3.11/dist-packages (from jsonschema>=2.6->nbformat->notebook>=4.4.1->widgetsnbextension~=3.6.0->ipywidgets) (0.36.2)\n",
            "Requirement already satisfied: rpds-py>=0.7.1 in /usr/local/lib/python3.11/dist-packages (from jsonschema>=2.6->nbformat->notebook>=4.4.1->widgetsnbextension~=3.6.0->ipywidgets) (0.24.0)\n",
            "Requirement already satisfied: jupyter-server<3,>=1.8 in /usr/local/lib/python3.11/dist-packages (from notebook-shim>=0.2.3->nbclassic>=0.4.7->notebook>=4.4.1->widgetsnbextension~=3.6.0->ipywidgets) (1.16.0)\n",
            "Requirement already satisfied: soupsieve>1.2 in /usr/local/lib/python3.11/dist-packages (from beautifulsoup4->nbconvert>=5->notebook>=4.4.1->widgetsnbextension~=3.6.0->ipywidgets) (2.7)\n",
            "Requirement already satisfied: typing-extensions>=4.0.0 in /usr/local/lib/python3.11/dist-packages (from beautifulsoup4->nbconvert>=5->notebook>=4.4.1->widgetsnbextension~=3.6.0->ipywidgets) (4.13.2)\n",
            "Requirement already satisfied: anyio>=3.1.0 in /usr/local/lib/python3.11/dist-packages (from jupyter-server<3,>=1.8->notebook-shim>=0.2.3->nbclassic>=0.4.7->notebook>=4.4.1->widgetsnbextension~=3.6.0->ipywidgets) (4.9.0)\n",
            "Requirement already satisfied: websocket-client in /usr/local/lib/python3.11/dist-packages (from jupyter-server<3,>=1.8->notebook-shim>=0.2.3->nbclassic>=0.4.7->notebook>=4.4.1->widgetsnbextension~=3.6.0->ipywidgets) (1.8.0)\n",
            "Requirement already satisfied: idna>=2.8 in /usr/local/lib/python3.11/dist-packages (from anyio>=3.1.0->jupyter-server<3,>=1.8->notebook-shim>=0.2.3->nbclassic>=0.4.7->notebook>=4.4.1->widgetsnbextension~=3.6.0->ipywidgets) (3.10)\n",
            "Requirement already satisfied: sniffio>=1.1 in /usr/local/lib/python3.11/dist-packages (from anyio>=3.1.0->jupyter-server<3,>=1.8->notebook-shim>=0.2.3->nbclassic>=0.4.7->notebook>=4.4.1->widgetsnbextension~=3.6.0->ipywidgets) (1.3.1)\n",
            "Downloading jedi-0.19.2-py2.py3-none-any.whl (1.6 MB)\n",
            "\u001b[2K   \u001b[90m━━━━━━━━━━━━━━━━━━━━━━━━━━━━━━━━━━━━━━━━\u001b[0m \u001b[32m1.6/1.6 MB\u001b[0m \u001b[31m33.8 MB/s\u001b[0m eta \u001b[36m0:00:00\u001b[0m\n",
            "\u001b[?25hBuilding wheels for collected packages: fpdf\n",
            "  Building wheel for fpdf (setup.py) ... \u001b[?25l\u001b[?25hdone\n",
            "  Created wheel for fpdf: filename=fpdf-1.7.2-py2.py3-none-any.whl size=40704 sha256=cfd84b0a683e13a1b78ac740bbf3606078c9429755783ed041614cb287902e19\n",
            "  Stored in directory: /root/.cache/pip/wheels/65/4f/66/bbda9866da446a72e206d6484cd97381cbc7859a7068541c36\n",
            "Successfully built fpdf\n",
            "Installing collected packages: fpdf, jedi\n",
            "Successfully installed fpdf-1.7.2 jedi-0.19.2\n"
          ]
        }
      ]
    },
    {
      "cell_type": "code",
      "source": [
        "from google.colab import drive\n",
        "drive.mount('/content/drive')\n"
      ],
      "metadata": {
        "colab": {
          "base_uri": "https://localhost:8080/"
        },
        "id": "VacO8RQBYaZG",
        "outputId": "cc500d10-6f42-4d6d-844f-1d9d60149526"
      },
      "execution_count": 30,
      "outputs": [
        {
          "output_type": "stream",
          "name": "stdout",
          "text": [
            "Mounted at /content/drive\n"
          ]
        }
      ]
    },
    {
      "cell_type": "code",
      "source": [
        "import sys\n",
        "sys.path.append('/content/FortiCryptX-Colab')\n"
      ],
      "metadata": {
        "id": "YoOtGu5pYkkc"
      },
      "execution_count": 31,
      "outputs": []
    },
    {
      "cell_type": "code",
      "source": [
        "from key_management.key_manager import generate_rsa_key_pair, save_keys_to_files, load_private_key, load_public_key\n",
        "\n",
        "# Generate key pair\n",
        "private_key, public_key = generate_rsa_key_pair()\n",
        "\n",
        "# Save keys to disk\n",
        "save_keys_to_files(private_key, public_key, \"private.pem\", \"public.pem\")\n",
        "\n",
        "# Load them back\n",
        "private_key = load_private_key(\"private.pem\")\n",
        "public_key = load_public_key(\"public.pem\")\n"
      ],
      "metadata": {
        "id": "HR3ok_zvYneJ"
      },
      "execution_count": 32,
      "outputs": []
    },
    {
      "cell_type": "code",
      "source": [
        "from crypto_engine.hybrid_crypto import encrypt_file, decrypt_file\n",
        "from audit_logger.logger import log_event\n",
        "import time\n",
        "import os\n",
        "\n",
        "# Write a sample plaintext file\n",
        "with open(\"plain.txt\", \"w\") as f:\n",
        "    f.write(\"This is a secure test file.\")\n",
        "\n",
        "# --- ENCRYPTION ---\n",
        "start = time.time()\n",
        "encrypt_file(\"plain.txt\", public_key, \"encrypted.dat\")\n",
        "enc_duration = time.time() - start\n",
        "\n",
        "log_event(\"encryption\", {\n",
        "    \"file\": \"plain.txt\",\n",
        "    \"encrypted_as\": \"encrypted.dat\",\n",
        "    \"duration\": enc_duration,\n",
        "    \"key_size\": 2048,\n",
        "    \"file_size\": os.path.getsize(\"plain.txt\")\n",
        "})\n",
        "\n",
        "# --- DECRYPTION ---\n",
        "start = time.time()\n",
        "decrypt_file(\"encrypted.dat\", private_key, \"decrypted.txt\")\n",
        "dec_duration = time.time() - start\n",
        "\n",
        "log_event(\"decryption\", {\n",
        "    \"file\": \"encrypted.dat\",\n",
        "    \"decrypted_as\": \"decrypted.txt\",\n",
        "    \"duration\": dec_duration,\n",
        "    \"key_size\": 2048,\n",
        "    \"file_size\": os.path.getsize(\"encrypted.dat\")\n",
        "})\n",
        "\n",
        "# Verify decrypted output\n",
        "with open(\"decrypted.txt\") as f:\n",
        "    print(\"Decrypted content:\", f.read())\n"
      ],
      "metadata": {
        "colab": {
          "base_uri": "https://localhost:8080/"
        },
        "id": "8k9SxahvYqkW",
        "outputId": "1f19c4e7-8ef0-45fd-c840-51426394fae4"
      },
      "execution_count": 33,
      "outputs": [
        {
          "output_type": "stream",
          "name": "stdout",
          "text": [
            "Decrypted content: This is a secure test file.\n"
          ]
        }
      ]
    },
    {
      "cell_type": "code",
      "source": [
        "from security_tools.hash_integrity import compute_sha256\n",
        "\n",
        "def verify_integrity(original, decrypted):\n",
        "    hash1 = compute_sha256(original)\n",
        "    hash2 = compute_sha256(decrypted)\n",
        "    print(f\"Integrity Match: {hash1 == hash2}\")\n"
      ],
      "metadata": {
        "id": "D0OR-r16YtqA"
      },
      "execution_count": 34,
      "outputs": []
    },
    {
      "cell_type": "code",
      "source": [
        "import importlib\n",
        "import audit_logger.logger\n",
        "importlib.reload(audit_logger.logger)\n",
        "\n",
        "from audit_logger.logger import log_event, read_logs\n"
      ],
      "metadata": {
        "id": "KVtfoRKXcsKU"
      },
      "execution_count": 35,
      "outputs": []
    },
    {
      "cell_type": "code",
      "source": [
        "from audit_logger.logger import log_event, read_logs\n",
        "\n",
        "log_event(\"encryption\", {\n",
        "    \"file\": \"plain.txt\",\n",
        "    \"encrypted_as\": \"encrypted.dat\",\n",
        "    \"duration\": 1.23,\n",
        "    \"key_size\": 2048,\n",
        "    \"file_size\": 12345\n",
        "})\n",
        "\n",
        "print(read_logs())\n",
        "\n"
      ],
      "metadata": {
        "colab": {
          "base_uri": "https://localhost:8080/"
        },
        "id": "1421oA4rYwHk",
        "outputId": "2c8df51a-5fb4-44cc-92cf-7487078a5a57"
      },
      "execution_count": 36,
      "outputs": [
        {
          "output_type": "stream",
          "name": "stdout",
          "text": [
            "[{'timestamp': '2025-05-25T11:15:04.817930', 'event_type': 'encryption', 'details': {'file': 'plain.txt', 'encrypted_as': 'encrypted.dat', 'duration': 0.00839686393737793, 'key_size': 2048, 'file_size': 27}}, {'timestamp': '2025-05-25T11:15:04.821593', 'event_type': 'decryption', 'details': {'file': 'encrypted.dat', 'decrypted_as': 'decrypted.txt', 'duration': 0.0031273365020751953, 'key_size': 2048, 'file_size': 308}}, {'timestamp': '2025-05-25T11:15:14.599390', 'event_type': 'encryption', 'details': {'file': 'plain.txt', 'encrypted_as': 'encrypted.dat', 'duration': 1.23, 'key_size': 2048, 'file_size': 12345}}]\n"
          ]
        }
      ]
    },
    {
      "cell_type": "code",
      "source": [
        "from benchmarking.benchmark import benchmark_encryption_algorithms\n",
        "\n",
        "results = benchmark_encryption_algorithms(\"plain.txt\", public_key, private_key)\n",
        "print(\"Benchmark results:\", results)\n"
      ],
      "metadata": {
        "colab": {
          "base_uri": "https://localhost:8080/"
        },
        "id": "pK3hg-bAYz3b",
        "outputId": "a602bd47-f41f-4e3f-8132-b4c05b99ac95"
      },
      "execution_count": 37,
      "outputs": [
        {
          "output_type": "stream",
          "name": "stdout",
          "text": [
            "Benchmark results: {'encryption_time': 0.0005490779876708984, 'decryption_time': 0.0017087459564208984, 'file_size_kb': 0.0263671875}\n"
          ]
        }
      ]
    },
    {
      "cell_type": "code",
      "source": [
        "from key_management.key_audit import train_anomaly_model, detect_anomaly\n",
        "from audit_logger.logger import LOG_FILE\n",
        "\n",
        "train_anomaly_model(LOG_FILE)\n",
        "anomalies = detect_anomaly(LOG_FILE)\n",
        "print(\"Anomalies found:\")\n",
        "print(anomalies)\n"
      ],
      "metadata": {
        "colab": {
          "base_uri": "https://localhost:8080/"
        },
        "id": "yRNI4qLEY2tL",
        "outputId": "1e5ba743-b9ad-44b3-f90d-d310b540ef09"
      },
      "execution_count": 38,
      "outputs": [
        {
          "output_type": "stream",
          "name": "stdout",
          "text": [
            "Anomalies found:\n",
            "        file   encrypted_as  duration  key_size  file_size decrypted_as  \\\n",
            "2  plain.txt  encrypted.dat      1.23      2048      12345          NaN   \n",
            "\n",
            "   anomaly  \n",
            "2       -1  \n"
          ]
        }
      ]
    },
    {
      "cell_type": "code",
      "source": [
        "from audit_logger.logger import read_logs\n",
        "from IPython.display import Markdown, display\n",
        "\n",
        "def view_logs():\n",
        "    logs = read_logs()\n",
        "    if not logs:\n",
        "        print(\"📭 No logs found.\")\n",
        "        return\n",
        "\n",
        "    for entry in logs:\n",
        "        display(Markdown(f\"\"\"\n",
        "### 🕒 {entry['timestamp']}\n",
        "**Type:** {entry['event_type']}\n",
        "**Details:** `{entry['details']}`\n",
        "---\n",
        "\"\"\"))\n"
      ],
      "metadata": {
        "id": "9bG1G21hfd0x"
      },
      "execution_count": 39,
      "outputs": []
    },
    {
      "cell_type": "code",
      "source": [
        "import ipywidgets as widgets\n",
        "from IPython.display import display\n",
        "from crypto_engine.hybrid_crypto import encrypt_file, decrypt_file\n",
        "from key_management.key_manager import load_public_key, load_private_key\n",
        "from security_tools.hash_integrity import compute_sha256\n",
        "\n",
        "# Load keys\n",
        "public_key = load_public_key(\"public.pem\")\n",
        "private_key = load_private_key(\"private.pem\")\n",
        "\n",
        "def encrypt_wrapper():\n",
        "    file_input = widgets.Text(value='plain.txt', description='Input File:')\n",
        "    file_output = widgets.Text(value='encrypted.dat', description='Output File:')\n",
        "    button = widgets.Button(description=\"🔐 Encrypt\")\n",
        "    output = widgets.Output()\n",
        "\n",
        "    def on_click(b):\n",
        "        with output:\n",
        "            output.clear_output()\n",
        "            try:\n",
        "                encrypt_file(file_input.value, public_key, file_output.value)\n",
        "                print(f\"✅ Encrypted: {file_input.value} → {file_output.value}\")\n",
        "            except Exception as e:\n",
        "                print(f\"❌ Encryption error: {e}\")\n",
        "\n",
        "    button.on_click(on_click)\n",
        "    display(widgets.VBox([file_input, file_output, button, output]))\n",
        "\n",
        "def decrypt_wrapper():\n",
        "    file_input = widgets.Text(value='encrypted.dat', description='Input File:')\n",
        "    file_output = widgets.Text(value='decrypted.txt', description='Output File:')\n",
        "    original_file = widgets.Text(value='plain.txt', description='Compare With:')\n",
        "    button = widgets.Button(description=\"🔓 Decrypt + Verify\")\n",
        "    output = widgets.Output()\n",
        "\n",
        "    def on_click(b):\n",
        "        with output:\n",
        "            output.clear_output()\n",
        "            try:\n",
        "                decrypt_file(file_input.value, private_key, file_output.value)\n",
        "                print(f\"✅ Decrypted: {file_input.value} → {file_output.value}\")\n",
        "\n",
        "                # Integrity check\n",
        "                hash1 = compute_sha256(original_file.value)\n",
        "                hash2 = compute_sha256(file_output.value)\n",
        "                print(\"🔐 Integrity Check:\", \"✅ Match\" if hash1 == hash2 else \"❌ Mismatch\")\n",
        "            except Exception as e:\n",
        "                print(f\"❌ Decryption error: {e}\")\n",
        "\n",
        "    button.on_click(on_click)\n",
        "    display(widgets.VBox([file_input, file_output, original_file, button, output]))\n"
      ],
      "metadata": {
        "id": "2jFmEDlvf6XV"
      },
      "execution_count": 40,
      "outputs": []
    },
    {
      "cell_type": "code",
      "source": [
        "from cloud_integration.gdrive_utils import upload_to_drive, download_from_drive\n",
        "\n",
        "def upload_widget():\n",
        "    file_input = widgets.Text(value='encrypted.dat', description='File to Upload:')\n",
        "    button = widgets.Button(description=\"⬆️ Upload to Drive\")\n",
        "    output = widgets.Output()\n",
        "\n",
        "    def on_click(b):\n",
        "        with output:\n",
        "            output.clear_output()\n",
        "            try:\n",
        "                upload_to_drive(file_input.value)\n",
        "            except Exception as e:\n",
        "                print(f\"❌ Upload error: {e}\")\n",
        "\n",
        "    button.on_click(on_click)\n",
        "    display(widgets.VBox([file_input, button, output]))\n"
      ],
      "metadata": {
        "id": "oTO3-pA2gsmo"
      },
      "execution_count": 41,
      "outputs": []
    },
    {
      "cell_type": "code",
      "source": [
        "from ui.colab_ui import show_main_ui\n",
        "\n",
        "def launch_workflow_ui():\n",
        "    show_main_ui(\n",
        "        encrypt_callback=encrypt_wrapper,\n",
        "        decrypt_callback=decrypt_wrapper,\n",
        "        view_logs_callback=view_logs\n",
        "    )\n"
      ],
      "metadata": {
        "id": "C2s4fBnYc1s-"
      },
      "execution_count": 42,
      "outputs": []
    },
    {
      "cell_type": "code",
      "source": [
        "launch_workflow_ui()\n"
      ],
      "metadata": {
        "colab": {
          "base_uri": "https://localhost:8080/",
          "height": 445,
          "referenced_widgets": [
            "71bbd36948d54bf780b6f80ac4c01908",
            "a6d16ad576934c47835e5d25ab196f0e",
            "5398f62350164ba98b6c6e5ac491c067",
            "ee5041248d5b40398ecf7f7969b0d4fa",
            "3482a32205ad4714a03aca808f8d8cef",
            "b187e3d51253481080a0bfc434e9a87e",
            "ebe8d52762d440b090bdd32961b8f474",
            "0420af34e2f64df39b08b975f9105f08",
            "c68d1a31bafb4ae5bac7bd2614dc2d54",
            "6156bde1338e491ea9c9c01eb6d25aec",
            "15fd338ea87247c9838c5499c01328cf",
            "765afe132b8148748020905ae879d02c",
            "a1897e18434a41789a55b4dea7b0f536",
            "864756ffe76344cf972f6cfc57d1e91d",
            "15a4f1d379f04693aac807b7de3e7ab5",
            "4323510bf54547c6bc461c8c07efc180",
            "b3e0539c6933446381b6c00704c7e966",
            "7255f230aaaa40ba892e07a5ecf82b78",
            "70bec7d9dc8840c4b47c815ec9d45fbe",
            "2d1ffae819f242a4ae0af593f5e0fb63",
            "94d9bd7fa94e48079334ee2dee64c7e4",
            "860d9cb5c3d74eb3a9ededef2da4e996",
            "dab32e873b1d4b248478826668144c22",
            "51b5abfd9b964d03bf951046ea97d3b5",
            "01a2c95105644d6ba88318e456f839d4",
            "ebb6db3c206048c0a25e983baa6430a5",
            "87078910e730427f9b5d9c6b22681bec",
            "6e8da71a00cf46dba60bfae68695e58b",
            "fb17f5c91a4246c0a03db866c30cc34f",
            "05d18f555e1a4fe888dbbd047fc6574d",
            "aaa0883d02af43fb8b7ca6ab8e423767",
            "982904cb4fe74a979dfba0095b04e944",
            "0826454adb494fb5aa0406a5c0706205",
            "bd82e0ef4f9b4c7392ab52bce2e48d2b",
            "9755e947012c4800aca9bb3b1af7c044",
            "34cbac85abc342f98bd54eebd9f57b2c",
            "f3a1773675744bf583dc0c3590928976",
            "05c2cd82310341c6851bfca04f4b0f34",
            "362bef3ea7b64b5b8bfce9a269c44371",
            "ec6b239d17634d6ebe4ab00538aaa505",
            "e09fbcd81cb54bcfb9d9652b5d1576c9",
            "d21d76a3fba24575b8b6481801161d5d",
            "2b098b2b90c14e5e92fd9a9b201ae00f",
            "751677f9838f40ddaf91be6165b2e9a9",
            "72d30ec8d7494a8e86c7c2e7d2c40f86",
            "a315fe3269524af18b65c68ea21c1fa6",
            "9d82bf6e135846d6858c5d71992901ae",
            "458c17c1a2554622891fe4636915816c",
            "ccd174b038974f73a48a3dca58670d9a",
            "b8f4eb58c9724c62a79043e4cf579b9e",
            "04cc81c82ab64a9ebc22a05916a9cc3d",
            "eedd7b22e8fd435f9e5edd8130001fc8",
            "441f50bf3b304fb2a198ee24e58df984",
            "350ec721a61a42f4a58f8a6e00b74a2a",
            "401312731c0040ffb3d31b127acfda11",
            "1e3433b136254d81801f0184770de2c6",
            "b867465f89c040808194267efd47f492",
            "39b11d5dd473482a94183656eb37e99e",
            "edf0a78865ae4b31a8397069f05e1e5d",
            "3eaae2d181124b459181cdda8885043f",
            "c0d3ee25339049f0807a12ed69657534",
            "70d7d991d8114de3917cc4605d994cc5",
            "938c88a29eb745438d07ba70143b397e",
            "07b88c54704e4536a6af227315de3b7e",
            "e6bc759791d94c9c82f35c1a2a59649c",
            "8acbdcd8ca7d4fedb0dbc6da800da05e",
            "29f65201018b4fc796e8aab7941664d2",
            "9509d7d9d6f946eeb0d1dfb37b2fee97",
            "10063d081ec0433ca907e09ec51be19d",
            "88e710cfe85d417fa40a2063598a2ee6",
            "17cd90e3c6a540dbb1625fee775ffb0d"
          ]
        },
        "id": "ewcOyDUngz6l",
        "outputId": "d0a0e5a3-241d-4b12-8b70-32c4106e52a9"
      },
      "execution_count": 44,
      "outputs": [
        {
          "output_type": "display_data",
          "data": {
            "text/plain": [
              "HBox(children=(Button(description='🔐 Encrypt File', style=ButtonStyle()), Button(description='🔓 Decrypt File',…"
            ],
            "application/vnd.jupyter.widget-view+json": {
              "version_major": 2,
              "version_minor": 0,
              "model_id": "71bbd36948d54bf780b6f80ac4c01908"
            }
          },
          "metadata": {
            "application/vnd.jupyter.widget-view+json": {
              "colab": {
                "custom_widget_manager": {
                  "url": "https://ssl.gstatic.com/colaboratory-static/widgets/colab-cdn-widget-manager/2b70e893a8ba7c0f/manager.min.js"
                }
              }
            }
          }
        },
        {
          "output_type": "display_data",
          "data": {
            "text/plain": [
              "Output()"
            ],
            "application/vnd.jupyter.widget-view+json": {
              "version_major": 2,
              "version_minor": 0,
              "model_id": "765afe132b8148748020905ae879d02c"
            }
          },
          "metadata": {
            "application/vnd.jupyter.widget-view+json": {
              "colab": {
                "custom_widget_manager": {
                  "url": "https://ssl.gstatic.com/colaboratory-static/widgets/colab-cdn-widget-manager/2b70e893a8ba7c0f/manager.min.js"
                }
              }
            }
          }
        }
      ]
    },
    {
      "cell_type": "markdown",
      "source": [],
      "metadata": {
        "id": "r7ZVvdRMidW8"
      }
    },
    {
      "cell_type": "markdown",
      "source": [
        "# Creating the project folder structure and root **files**"
      ],
      "metadata": {
        "id": "0nvS61SDSbS5"
      }
    },
    {
      "cell_type": "code",
      "execution_count": 1,
      "metadata": {
        "colab": {
          "base_uri": "https://localhost:8080/"
        },
        "id": "uh9O_NtVBiqV",
        "outputId": "54aeb0e1-25c3-46c4-f9ef-fc5d0b8248cb"
      },
      "outputs": [
        {
          "output_type": "stream",
          "name": "stdout",
          "text": [
            "Directory structure created.\n"
          ]
        }
      ],
      "source": [
        "import os\n",
        "\n",
        "# Root folder\n",
        "base_dir = \"/content/FortiCryptX-Colab\"\n",
        "\n",
        "# Define subdirectories\n",
        "folders = [\n",
        "    \"crypto_engine\",\n",
        "    \"key_management\",\n",
        "    \"security_tools\",\n",
        "    \"cloud_integration\",\n",
        "    \"ui\",\n",
        "    \"audit_logger\",\n",
        "    \"pq_simulation\",\n",
        "    \"benchmarking\"\n",
        "]\n",
        "\n",
        "# Create folders\n",
        "for folder in folders:\n",
        "    os.makedirs(os.path.join(base_dir, folder), exist_ok=True)\n",
        "\n",
        "root_files = [\"main.ipynb\", \"requirements.txt\", \"README.md\"]\n",
        "for file in root_files:\n",
        "    open(os.path.join(base_dir, file), 'a').close()\n",
        "\n",
        "print(\"Directory structure created.\")\n"
      ]
    },
    {
      "cell_type": "markdown",
      "source": [
        "# Creating __init__.py in each **subfolder**"
      ],
      "metadata": {
        "id": "DuZyiAGvSnLV"
      }
    },
    {
      "cell_type": "code",
      "source": [
        "# Create __init__.py in each subfolder\n",
        "for folder in folders:\n",
        "    init_path = os.path.join(base_dir, folder, \"__init__.py\")\n",
        "    with open(init_path, \"w\") as f:\n",
        "        f.write(\"# Init for \" + folder)\n"
      ],
      "metadata": {
        "id": "PGCJQP3LBws5"
      },
      "execution_count": 2,
      "outputs": []
    },
    {
      "cell_type": "markdown",
      "source": [
        "# **crypto_engine**"
      ],
      "metadata": {
        "id": "fDi8nmg_PGa-"
      }
    },
    {
      "cell_type": "markdown",
      "source": [
        "hybrid_crypto.py"
      ],
      "metadata": {
        "id": "5WH4ynoNUjOp"
      }
    },
    {
      "cell_type": "code",
      "source": [
        "%%writefile /content/FortiCryptX-Colab/crypto_engine/hybrid_crypto.py\n",
        "\n",
        "import os\n",
        "from cryptography.hazmat.primitives.ciphers import Cipher, algorithms, modes\n",
        "from cryptography.hazmat.primitives import padding as sympadding\n",
        "from cryptography.hazmat.primitives.asymmetric import padding as asympadding\n",
        "from cryptography.hazmat.primitives import hashes\n",
        "\n",
        "def encrypt_file(file_path, public_key, output_path):\n",
        "    aes_key = os.urandom(32)\n",
        "    iv = os.urandom(16)\n",
        "\n",
        "    with open(file_path, \"rb\") as f:\n",
        "        data = f.read()\n",
        "\n",
        "    padder = sympadding.PKCS7(128).padder()\n",
        "    padded_data = padder.update(data) + padder.finalize()\n",
        "\n",
        "    cipher = Cipher(algorithms.AES(aes_key), modes.CBC(iv))\n",
        "    encryptor = cipher.encryptor()\n",
        "    encrypted_data = encryptor.update(padded_data) + encryptor.finalize()\n",
        "\n",
        "    encrypted_key = public_key.encrypt(\n",
        "        aes_key,\n",
        "        asympadding.OAEP(\n",
        "            mgf=asympadding.MGF1(algorithm=hashes.SHA256()),\n",
        "            algorithm=hashes.SHA256(),\n",
        "            label=None\n",
        "        )\n",
        "    )\n",
        "\n",
        "    with open(output_path, \"wb\") as f:\n",
        "        f.write(len(encrypted_key).to_bytes(4, 'big'))\n",
        "        f.write(encrypted_key)\n",
        "        f.write(iv)\n",
        "        f.write(encrypted_data)\n",
        "\n",
        "def decrypt_file(enc_file_path, private_key, output_path):\n",
        "    with open(enc_file_path, \"rb\") as f:\n",
        "        key_len = int.from_bytes(f.read(4), 'big')\n",
        "        encrypted_key = f.read(key_len)\n",
        "        iv = f.read(16)\n",
        "        encrypted_data = f.read()\n",
        "\n",
        "    aes_key = private_key.decrypt(\n",
        "        encrypted_key,\n",
        "        asympadding.OAEP(\n",
        "            mgf=asympadding.MGF1(algorithm=hashes.SHA256()),\n",
        "            algorithm=hashes.SHA256(),\n",
        "            label=None\n",
        "        )\n",
        "    )\n",
        "\n",
        "    cipher = Cipher(algorithms.AES(aes_key), modes.CBC(iv))\n",
        "    decryptor = cipher.decryptor()\n",
        "    padded_data = decryptor.update(encrypted_data) + decryptor.finalize()\n",
        "\n",
        "    unpadder = sympadding.PKCS7(128).unpadder()\n",
        "    data = unpadder.update(padded_data) + unpadder.finalize()\n",
        "\n",
        "    with open(output_path, \"wb\") as f:\n",
        "        f.write(data)\n"
      ],
      "metadata": {
        "colab": {
          "base_uri": "https://localhost:8080/"
        },
        "id": "qcVLbHfkB-EI",
        "outputId": "07d8f5d7-d820-4389-f34a-502e0bea7d56"
      },
      "execution_count": 3,
      "outputs": [
        {
          "output_type": "stream",
          "name": "stdout",
          "text": [
            "Writing /content/FortiCryptX-Colab/crypto_engine/hybrid_crypto.py\n"
          ]
        }
      ]
    },
    {
      "cell_type": "markdown",
      "source": [
        "ecies_crypto.py"
      ],
      "metadata": {
        "id": "-DoPuGPqUszt"
      }
    },
    {
      "cell_type": "code",
      "source": [
        "%%writefile /content/FortiCryptX-Colab/crypto_engine/ecies_crypto.py\n",
        "\n",
        "import os\n",
        "from cryptography.hazmat.primitives.asymmetric import ec\n",
        "from cryptography.hazmat.primitives.kdf.hkdf import HKDF\n",
        "from cryptography.hazmat.primitives import hashes\n",
        "from cryptography.hazmat.primitives.ciphers import Cipher, algorithms, modes\n",
        "\n",
        "def ecies_encrypt(public_key, data):\n",
        "    ephemeral_key = ec.generate_private_key(ec.SECP384R1())\n",
        "    shared_secret = ephemeral_key.exchange(ec.ECDH(), public_key)\n",
        "\n",
        "    derived_key = HKDF(\n",
        "        algorithm=hashes.SHA256(),\n",
        "        length=32,\n",
        "        salt=None,\n",
        "        info=b\"ecies\"\n",
        "    ).derive(shared_secret)\n",
        "\n",
        "    iv = os.urandom(16)\n",
        "    cipher = Cipher(algorithms.AES(derived_key), modes.CBC(iv))\n",
        "    encryptor = cipher.encryptor()\n",
        "\n",
        "    padding_len = 16 - len(data) % 16\n",
        "    data += bytes([padding_len]) * padding_len\n",
        "    ciphertext = encryptor.update(data) + encryptor.finalize()\n",
        "\n",
        "    return ephemeral_key.public_key(), iv, ciphertext\n",
        "\n",
        "def ecies_decrypt(private_key, peer_public_key, iv, ciphertext):\n",
        "    shared_secret = private_key.exchange(ec.ECDH(), peer_public_key)\n",
        "\n",
        "    derived_key = HKDF(\n",
        "        algorithm=hashes.SHA256(),\n",
        "        length=32,\n",
        "        salt=None,\n",
        "        info=b\"ecies\"\n",
        "    ).derive(shared_secret)\n",
        "\n",
        "    cipher = Cipher(algorithms.AES(derived_key), modes.CBC(iv))\n",
        "    decryptor = cipher.decryptor()\n",
        "    padded_data = decryptor.update(ciphertext) + decryptor.finalize()\n",
        "\n",
        "    padding_len = padded_data[-1]\n",
        "    return padded_data[:-padding_len]\n"
      ],
      "metadata": {
        "colab": {
          "base_uri": "https://localhost:8080/"
        },
        "id": "FTrZFYK3HSEt",
        "outputId": "c9eb24cd-809a-4a18-cfc7-0ef5627a503f"
      },
      "execution_count": 4,
      "outputs": [
        {
          "output_type": "stream",
          "name": "stdout",
          "text": [
            "Writing /content/FortiCryptX-Colab/crypto_engine/ecies_crypto.py\n"
          ]
        }
      ]
    },
    {
      "cell_type": "markdown",
      "source": [
        "pbe_crypto.py"
      ],
      "metadata": {
        "id": "y53k4_o7UvYS"
      }
    },
    {
      "cell_type": "code",
      "source": [
        "%%writefile /content/FortiCryptX-Colab/crypto_engine/pbe_crypto.py\n",
        "\n",
        "import os\n",
        "import base64\n",
        "from cryptography.hazmat.primitives.kdf.pbkdf2 import PBKDF2HMAC\n",
        "from cryptography.hazmat.primitives import hashes\n",
        "\n",
        "def derive_key_pbkdf2(password: str, salt: bytes = None, iterations: int = 100_000):\n",
        "    if salt is None:\n",
        "        salt = os.urandom(16)\n",
        "\n",
        "    kdf = PBKDF2HMAC(\n",
        "        algorithm=hashes.SHA256(),\n",
        "        length=32,\n",
        "        salt=salt,\n",
        "        iterations=iterations,\n",
        "    )\n",
        "\n",
        "    key = kdf.derive(password.encode())\n",
        "    return key, salt\n",
        "\n",
        "def verify_key_pbkdf2(password: str, salt: bytes, key: bytes, iterations: int = 100_000):\n",
        "    kdf = PBKDF2HMAC(\n",
        "        algorithm=hashes.SHA256(),\n",
        "        length=32,\n",
        "        salt=salt,\n",
        "        iterations=iterations,\n",
        "    )\n",
        "    try:\n",
        "        kdf.verify(password.encode(), key)\n",
        "        return True\n",
        "    except Exception:\n",
        "        return False\n"
      ],
      "metadata": {
        "colab": {
          "base_uri": "https://localhost:8080/"
        },
        "id": "6Ok5MuqVHaHV",
        "outputId": "774a57eb-ed51-4fca-c3ea-34b8f658162b"
      },
      "execution_count": 5,
      "outputs": [
        {
          "output_type": "stream",
          "name": "stdout",
          "text": [
            "Writing /content/FortiCryptX-Colab/crypto_engine/pbe_crypto.py\n"
          ]
        }
      ]
    },
    {
      "cell_type": "markdown",
      "source": [
        "digital_signatures.py"
      ],
      "metadata": {
        "id": "zWQndVsfUyXt"
      }
    },
    {
      "cell_type": "code",
      "source": [
        "%%writefile /content/FortiCryptX-Colab/crypto_engine/digital_signatures.py\n",
        "\n",
        "from cryptography.hazmat.primitives import hashes, serialization\n",
        "from cryptography.hazmat.primitives.asymmetric import padding\n",
        "\n",
        "def sign_file(file_path, private_key):\n",
        "    with open(file_path, \"rb\") as f:\n",
        "        data = f.read()\n",
        "\n",
        "    signature = private_key.sign(\n",
        "        data,\n",
        "        padding.PSS(\n",
        "            mgf=padding.MGF1(hashes.SHA256()),\n",
        "            salt_length=padding.PSS.MAX_LENGTH\n",
        "        ),\n",
        "        hashes.SHA256()\n",
        "    )\n",
        "    return signature\n",
        "\n",
        "def verify_signature(file_path, signature, public_key):\n",
        "    with open(file_path, \"rb\") as f:\n",
        "        data = f.read()\n",
        "\n",
        "    try:\n",
        "        public_key.verify(\n",
        "            signature,\n",
        "            data,\n",
        "            padding.PSS(\n",
        "                mgf=padding.MGF1(hashes.SHA256()),\n",
        "                salt_length=padding.PSS.MAX_LENGTH\n",
        "            ),\n",
        "            hashes.SHA256()\n",
        "        )\n",
        "        return True\n",
        "    except Exception:\n",
        "        return False\n"
      ],
      "metadata": {
        "colab": {
          "base_uri": "https://localhost:8080/"
        },
        "id": "EzXp29rlHef3",
        "outputId": "a1e44328-a32a-48aa-8fcb-013ce6e9d74b"
      },
      "execution_count": 6,
      "outputs": [
        {
          "output_type": "stream",
          "name": "stdout",
          "text": [
            "Writing /content/FortiCryptX-Colab/crypto_engine/digital_signatures.py\n"
          ]
        }
      ]
    },
    {
      "cell_type": "markdown",
      "source": [
        "entropy_analysis.py\n"
      ],
      "metadata": {
        "id": "Jf-SdTGNU1dX"
      }
    },
    {
      "cell_type": "code",
      "source": [
        "%%writefile /content/FortiCryptX-Colab/crypto_engine/entropy_analysis.py\n",
        "\n",
        "import math\n",
        "\n",
        "def calculate_entropy(data: bytes) -> float:\n",
        "    if not data:\n",
        "        return 0.0\n",
        "\n",
        "    freq = {}\n",
        "    for b in data:\n",
        "        freq[b] = freq.get(b, 0) + 1\n",
        "\n",
        "    entropy = 0\n",
        "    length = len(data)\n",
        "    for count in freq.values():\n",
        "        p = count / length\n",
        "        entropy -= p * math.log2(p)\n",
        "\n",
        "    return entropy\n",
        "\n",
        "def analyze_file_entropy(file_path: str, threshold: float = 7.5) -> dict:\n",
        "    with open(file_path, \"rb\") as f:\n",
        "        data = f.read()\n",
        "\n",
        "    entropy = calculate_entropy(data)\n",
        "    result = {\n",
        "        \"entropy\": entropy,\n",
        "        \"is_suspicious\": entropy >= threshold\n",
        "    }\n",
        "    return result\n"
      ],
      "metadata": {
        "colab": {
          "base_uri": "https://localhost:8080/"
        },
        "id": "ADViB3bXHinE",
        "outputId": "9085de6c-bbc5-41b4-d2f9-dbf6819e7d0d"
      },
      "execution_count": 7,
      "outputs": [
        {
          "output_type": "stream",
          "name": "stdout",
          "text": [
            "Writing /content/FortiCryptX-Colab/crypto_engine/entropy_analysis.py\n"
          ]
        }
      ]
    },
    {
      "cell_type": "markdown",
      "source": [
        "# **key_management**"
      ],
      "metadata": {
        "id": "eGkln4DUP__7"
      }
    },
    {
      "cell_type": "markdown",
      "source": [
        "key_manager.py"
      ],
      "metadata": {
        "id": "eDpHR5EDU5gM"
      }
    },
    {
      "cell_type": "code",
      "source": [
        "%%writefile /content/FortiCryptX-Colab/key_management/key_manager.py\n",
        "\n",
        "from cryptography.hazmat.primitives.asymmetric import rsa\n",
        "from cryptography.hazmat.primitives import serialization\n",
        "\n",
        "def generate_rsa_key_pair():\n",
        "    private_key = rsa.generate_private_key(public_exponent=65537, key_size=2048)\n",
        "    public_key = private_key.public_key()\n",
        "    return private_key, public_key\n",
        "\n",
        "def save_keys_to_files(private_key, public_key, priv_path, pub_path):\n",
        "    with open(priv_path, \"wb\") as f:\n",
        "        f.write(private_key.private_bytes(\n",
        "            encoding=serialization.Encoding.PEM,\n",
        "            format=serialization.PrivateFormat.TraditionalOpenSSL,\n",
        "            encryption_algorithm=serialization.NoEncryption()\n",
        "        ))\n",
        "\n",
        "    with open(pub_path, \"wb\") as f:\n",
        "        f.write(public_key.public_bytes(\n",
        "            encoding=serialization.Encoding.PEM,\n",
        "            format=serialization.PublicFormat.SubjectPublicKeyInfo\n",
        "        ))\n",
        "\n",
        "def load_private_key(path):\n",
        "    with open(path, \"rb\") as f:\n",
        "        return serialization.load_pem_private_key(f.read(), password=None)\n",
        "\n",
        "def load_public_key(path):\n",
        "    with open(path, \"rb\") as f:\n",
        "        return serialization.load_pem_public_key(f.read())\n"
      ],
      "metadata": {
        "colab": {
          "base_uri": "https://localhost:8080/"
        },
        "id": "JxlGwZvfChgr",
        "outputId": "ebeea43b-197d-4b3d-d692-1c017419f983"
      },
      "execution_count": 8,
      "outputs": [
        {
          "output_type": "stream",
          "name": "stdout",
          "text": [
            "Writing /content/FortiCryptX-Colab/key_management/key_manager.py\n"
          ]
        }
      ]
    },
    {
      "cell_type": "markdown",
      "source": [
        "key_audit.py"
      ],
      "metadata": {
        "id": "9KLjP20yU7ri"
      }
    },
    {
      "cell_type": "code",
      "source": [
        "%%writefile /content/FortiCryptX-Colab/key_management/key_audit.py\n",
        "import pandas as pd\n",
        "from sklearn.ensemble import IsolationForest\n",
        "import joblib\n",
        "import json\n",
        "\n",
        "MODEL_PATH = \"/content/FortiCryptX-Colab/key_management/anomaly_model.pkl\"\n",
        "\n",
        "def train_anomaly_model(log_file):\n",
        "    rows = []\n",
        "    with open(log_file, 'r') as f:\n",
        "        for line in f:\n",
        "            try:\n",
        "                obj = json.loads(line.strip())\n",
        "                if 'details' in obj:\n",
        "                    rows.append(obj['details'])\n",
        "            except json.JSONDecodeError:\n",
        "                print(f\"[!] Skipping bad line: {line.strip()}\")\n",
        "\n",
        "    df = pd.DataFrame(rows)\n",
        "\n",
        "    # Ensure required columns exist\n",
        "    if not all(col in df.columns for col in ['file_size', 'duration', 'key_size']):\n",
        "        raise ValueError(\"Missing required fields (file_size, duration, key_size) in logs.\")\n",
        "\n",
        "    model = IsolationForest(contamination=0.05)\n",
        "    model.fit(df[['file_size', 'duration', 'key_size']])\n",
        "    joblib.dump(model, MODEL_PATH)\n",
        "\n",
        "\n",
        "def detect_anomaly(log_file):\n",
        "    model = joblib.load(MODEL_PATH)\n",
        "    rows = []\n",
        "    with open(log_file, 'r') as f:\n",
        "        for line in f:\n",
        "            try:\n",
        "                obj = json.loads(line.strip())\n",
        "                if 'details' in obj:\n",
        "                    rows.append(obj['details'])\n",
        "            except json.JSONDecodeError:\n",
        "                continue\n",
        "\n",
        "    df = pd.DataFrame(rows)\n",
        "    preds = model.predict(df[['file_size', 'duration', 'key_size']])\n",
        "    df['anomaly'] = preds\n",
        "    return df[df['anomaly'] == -1]\n"
      ],
      "metadata": {
        "colab": {
          "base_uri": "https://localhost:8080/"
        },
        "id": "vT9Vo8QyFg8Y",
        "outputId": "9236855e-3bd8-4221-8513-a3e7924b26ab"
      },
      "execution_count": 9,
      "outputs": [
        {
          "output_type": "stream",
          "name": "stdout",
          "text": [
            "Writing /content/FortiCryptX-Colab/key_management/key_audit.py\n"
          ]
        }
      ]
    },
    {
      "cell_type": "markdown",
      "source": [
        "# **security_tools**"
      ],
      "metadata": {
        "id": "eVz29hI4QKF2"
      }
    },
    {
      "cell_type": "markdown",
      "source": [
        "hash_integrity.py"
      ],
      "metadata": {
        "id": "4Vs14Uw7U-sh"
      }
    },
    {
      "cell_type": "code",
      "source": [
        "%%writefile /content/FortiCryptX-Colab/security_tools/hash_integrity.py\n",
        "import hashlib\n",
        "import os\n",
        "\n",
        "def compute_sha256(filepath):\n",
        "    sha256 = hashlib.sha256()\n",
        "    with open(filepath, \"rb\") as f:\n",
        "        while chunk := f.read(8192):\n",
        "            sha256.update(chunk)\n",
        "    return sha256.hexdigest()\n",
        "\n",
        "def verify_file_integrity(original_file, decrypted_file):\n",
        "    return compute_sha256(original_file) == compute_sha256(decrypted_file)\n"
      ],
      "metadata": {
        "colab": {
          "base_uri": "https://localhost:8080/"
        },
        "id": "HGWdZt8BEJ8O",
        "outputId": "de433054-3e7e-4c2a-f9c3-1e09a478b5bc"
      },
      "execution_count": 10,
      "outputs": [
        {
          "output_type": "stream",
          "name": "stdout",
          "text": [
            "Writing /content/FortiCryptX-Colab/security_tools/hash_integrity.py\n"
          ]
        }
      ]
    },
    {
      "cell_type": "markdown",
      "source": [
        "file_shredder.py"
      ],
      "metadata": {
        "id": "aNSpbxk7VAz7"
      }
    },
    {
      "cell_type": "code",
      "source": [
        "%%writefile /content/FortiCryptX-Colab/security_tools/file_shredder.py\n",
        "import os\n",
        "import random\n",
        "\n",
        "def shred_file(filepath, passes=3):\n",
        "    if not os.path.exists(filepath):\n",
        "        raise FileNotFoundError(f\"{filepath} not found.\")\n",
        "\n",
        "    filesize = os.path.getsize(filepath)\n",
        "\n",
        "    with open(filepath, \"ba+\", buffering=0) as f:\n",
        "        for i in range(passes):\n",
        "            f.seek(0)\n",
        "            f.write(os.urandom(filesize))\n",
        "            f.flush()\n",
        "            os.fsync(f.fileno())\n",
        "\n",
        "    os.remove(filepath)\n",
        "    print(f\"{filepath} shredded securely with {passes} overwrite passes.\")\n"
      ],
      "metadata": {
        "colab": {
          "base_uri": "https://localhost:8080/"
        },
        "id": "BdTs8g-mIgxz",
        "outputId": "eb767719-e20f-4610-fbc1-3750649469e8"
      },
      "execution_count": 11,
      "outputs": [
        {
          "output_type": "stream",
          "name": "stdout",
          "text": [
            "Writing /content/FortiCryptX-Colab/security_tools/file_shredder.py\n"
          ]
        }
      ]
    },
    {
      "cell_type": "markdown",
      "source": [
        "tamper_detection.py"
      ],
      "metadata": {
        "id": "8ykQ-n9aVDf0"
      }
    },
    {
      "cell_type": "code",
      "source": [
        "%%writefile /content/FortiCryptX-Colab/security_tools/tamper_detection.py\n",
        "import json\n",
        "import os\n",
        "from .hash_integrity import compute_sha256\n",
        "\n",
        "def save_file_hash(filepath, hash_db_path=\"hashes.json\"):\n",
        "    file_hash = compute_sha256(filepath)\n",
        "    hashes = {}\n",
        "\n",
        "    if os.path.exists(hash_db_path):\n",
        "        with open(hash_db_path, \"r\") as f:\n",
        "            hashes = json.load(f)\n",
        "\n",
        "    hashes[os.path.basename(filepath)] = file_hash\n",
        "\n",
        "    with open(hash_db_path, \"w\") as f:\n",
        "        json.dump(hashes, f, indent=2)\n",
        "\n",
        "def verify_file_before_decryption(filepath, hash_db_path=\"hashes.json\"):\n",
        "    if not os.path.exists(hash_db_path):\n",
        "        raise FileNotFoundError(\"Hash database not found.\")\n",
        "\n",
        "    with open(hash_db_path, \"r\") as f:\n",
        "        hashes = json.load(f)\n",
        "\n",
        "    filename = os.path.basename(filepath)\n",
        "    if filename not in hashes:\n",
        "        raise ValueError(f\"No hash record found for {filename}.\")\n",
        "\n",
        "    current_hash = compute_sha256(filepath)\n",
        "    expected_hash = hashes[filename]\n",
        "\n",
        "    return current_hash == expected_hash\n"
      ],
      "metadata": {
        "colab": {
          "base_uri": "https://localhost:8080/"
        },
        "id": "nLCZr8rTIkBd",
        "outputId": "c3d70dd0-7c23-406b-efe1-2d61a2780cec"
      },
      "execution_count": 12,
      "outputs": [
        {
          "output_type": "stream",
          "name": "stdout",
          "text": [
            "Writing /content/FortiCryptX-Colab/security_tools/tamper_detection.py\n"
          ]
        }
      ]
    },
    {
      "cell_type": "markdown",
      "source": [
        "# **cloud_integration**"
      ],
      "metadata": {
        "id": "vYKvIEV0QZWr"
      }
    },
    {
      "cell_type": "markdown",
      "source": [
        "gdrive_utils.py"
      ],
      "metadata": {
        "id": "_inhikQFVIVN"
      }
    },
    {
      "cell_type": "code",
      "source": [
        "%%writefile /content/FortiCryptX-Colab/cloud_integration/gdrive_utils.py\n",
        "import shutil\n",
        "import os\n",
        "\n",
        "def upload_to_drive(local_path, drive_path=\"/content/drive/MyDrive/FortiCryptX-Uploads\"):\n",
        "    if not os.path.exists(local_path):\n",
        "        raise FileNotFoundError(f\"{local_path} not found.\")\n",
        "\n",
        "    os.makedirs(drive_path, exist_ok=True)\n",
        "    filename = os.path.basename(local_path)\n",
        "    destination = os.path.join(drive_path, filename)\n",
        "    shutil.copy2(local_path, destination)\n",
        "    print(f\"Uploaded: {filename} to Google Drive -> {drive_path}\")\n",
        "\n",
        "def download_from_drive(drive_filename, drive_path=\"/content/drive/MyDrive/FortiCryptX-Uploads\", download_dir=\"/content\"):\n",
        "    source_path = os.path.join(drive_path, drive_filename)\n",
        "    if not os.path.exists(source_path):\n",
        "        raise FileNotFoundError(f\"{drive_filename} not found in Drive folder.\")\n",
        "\n",
        "    destination = os.path.join(download_dir, drive_filename)\n",
        "    shutil.copy2(source_path, destination)\n",
        "    print(f\"Downloaded: {drive_filename} to {download_dir}\")\n",
        "    return destination\n"
      ],
      "metadata": {
        "colab": {
          "base_uri": "https://localhost:8080/"
        },
        "id": "4P2igRKaJ27s",
        "outputId": "154ac847-434d-4e30-ed0e-267c8f30fbae"
      },
      "execution_count": 13,
      "outputs": [
        {
          "output_type": "stream",
          "name": "stdout",
          "text": [
            "Writing /content/FortiCryptX-Colab/cloud_integration/gdrive_utils.py\n"
          ]
        }
      ]
    },
    {
      "cell_type": "markdown",
      "source": [
        "file_picker.py"
      ],
      "metadata": {
        "id": "T86O7e8AVK13"
      }
    },
    {
      "cell_type": "code",
      "source": [
        "%%writefile /content/FortiCryptX-Colab/cloud_integration/file_picker.py\n",
        "from google.colab import drive\n",
        "import ipywidgets as widgets\n",
        "import os\n",
        "\n",
        "def mount_drive():\n",
        "    drive.mount('/content/drive')\n",
        "\n",
        "def select_file_from_drive():\n",
        "    files = [f for f in os.listdir(\"/content/drive/MyDrive\") if not f.startswith('.')]\n",
        "    dropdown = widgets.Dropdown(options=files, description='Select file:')\n",
        "    display(dropdown)\n",
        "    return dropdown\n"
      ],
      "metadata": {
        "colab": {
          "base_uri": "https://localhost:8080/"
        },
        "id": "ADAXTP3UFli7",
        "outputId": "c9ef6a3e-5579-4733-c2d9-3709b170a8cb"
      },
      "execution_count": 14,
      "outputs": [
        {
          "output_type": "stream",
          "name": "stdout",
          "text": [
            "Writing /content/FortiCryptX-Colab/cloud_integration/file_picker.py\n"
          ]
        }
      ]
    },
    {
      "cell_type": "markdown",
      "source": [
        "session_persistence.py"
      ],
      "metadata": {
        "id": "hg35Fj91VNPS"
      }
    },
    {
      "cell_type": "code",
      "source": [
        "%%writefile /content/FortiCryptX-Colab/cloud_integration/session_persistence.py\n",
        "import os\n",
        "import shutil\n",
        "\n",
        "PERSIST_DIR = \"/content/drive/MyDrive/FortiCryptX-Persist\"\n",
        "\n",
        "def save_file_session(local_path):\n",
        "    if not os.path.exists(local_path):\n",
        "        raise FileNotFoundError(f\"{local_path} does not exist.\")\n",
        "\n",
        "    os.makedirs(PERSIST_DIR, exist_ok=True)\n",
        "    filename = os.path.basename(local_path)\n",
        "    destination = os.path.join(PERSIST_DIR, filename)\n",
        "    shutil.copy2(local_path, destination)\n",
        "    print(f\"Persisted {filename} to Drive.\")\n",
        "\n",
        "def load_file_session(filename):\n",
        "    filepath = os.path.join(PERSIST_DIR, filename)\n",
        "    if not os.path.exists(filepath):\n",
        "        raise FileNotFoundError(f\"{filename} not found in persistent storage.\")\n",
        "\n",
        "    local_copy = os.path.join(\"/content\", filename)\n",
        "    shutil.copy2(filepath, local_copy)\n",
        "    print(f\"Loaded {filename} from persistent storage.\")\n",
        "    return local_copy\n",
        "\n",
        "def list_persisted_files():\n",
        "    if not os.path.exists(PERSIST_DIR):\n",
        "        return []\n",
        "\n",
        "    return os.listdir(PERSIST_DIR)\n"
      ],
      "metadata": {
        "colab": {
          "base_uri": "https://localhost:8080/"
        },
        "id": "2JP-poBVKUvR",
        "outputId": "6a1df812-522b-41f6-c715-2e52237c9a93"
      },
      "execution_count": 15,
      "outputs": [
        {
          "output_type": "stream",
          "name": "stdout",
          "text": [
            "Writing /content/FortiCryptX-Colab/cloud_integration/session_persistence.py\n"
          ]
        }
      ]
    },
    {
      "cell_type": "markdown",
      "source": [
        "# **ui**"
      ],
      "metadata": {
        "id": "tUEMkDebQuy7"
      }
    },
    {
      "cell_type": "markdown",
      "source": [
        "colab_ui.py"
      ],
      "metadata": {
        "id": "8HkNFXk_VQNI"
      }
    },
    {
      "cell_type": "code",
      "source": [
        "%%writefile /content/FortiCryptX-Colab/ui/colab_ui.py\n",
        "import ipywidgets as widgets\n",
        "from IPython.display import display\n",
        "\n",
        "def show_main_ui(encrypt_callback, decrypt_callback, view_logs_callback):\n",
        "    encrypt_btn = widgets.Button(description=\"🔐 Encrypt File\")\n",
        "    decrypt_btn = widgets.Button(description=\"🔓 Decrypt File\")\n",
        "    view_logs_btn = widgets.Button(description=\"📜 View Logs\")\n",
        "\n",
        "    output = widgets.Output()\n",
        "\n",
        "    def on_encrypt_clicked(b):\n",
        "        with output:\n",
        "            output.clear_output()\n",
        "            encrypt_callback()\n",
        "\n",
        "    def on_decrypt_clicked(b):\n",
        "        with output:\n",
        "            output.clear_output()\n",
        "            decrypt_callback()\n",
        "\n",
        "    def on_logs_clicked(b):\n",
        "        with output:\n",
        "            output.clear_output()\n",
        "            view_logs_callback()\n",
        "\n",
        "    encrypt_btn.on_click(on_encrypt_clicked)\n",
        "    decrypt_btn.on_click(on_decrypt_clicked)\n",
        "    view_logs_btn.on_click(on_logs_clicked)\n",
        "\n",
        "    display(widgets.HBox([encrypt_btn, decrypt_btn, view_logs_btn]))\n",
        "    display(output)\n"
      ],
      "metadata": {
        "colab": {
          "base_uri": "https://localhost:8080/"
        },
        "id": "olVzstJ5Ka-j",
        "outputId": "9932e006-6283-435b-e85c-18ec500794c8"
      },
      "execution_count": 16,
      "outputs": [
        {
          "output_type": "stream",
          "name": "stdout",
          "text": [
            "Writing /content/FortiCryptX-Colab/ui/colab_ui.py\n"
          ]
        }
      ]
    },
    {
      "cell_type": "markdown",
      "source": [
        "user_simulation.py"
      ],
      "metadata": {
        "id": "pyAAKwL8VSj6"
      }
    },
    {
      "cell_type": "code",
      "source": [
        "%%writefile /content/FortiCryptX-Colab/ui/user_simulation.py\n",
        "import ipywidgets as widgets\n",
        "from IPython.display import display\n",
        "\n",
        "USER_PROFILES = {\n",
        "    \"User A\": {\"email\": \"usera@example.com\", \"role\": \"admin\"},\n",
        "    \"User B\": {\"email\": \"userb@example.com\", \"role\": \"viewer\"}\n",
        "}\n",
        "\n",
        "def simulate_user():\n",
        "    dropdown = widgets.Dropdown(\n",
        "        options=list(USER_PROFILES.keys()),\n",
        "        description=\"User Profile:\"\n",
        "    )\n",
        "\n",
        "    output = widgets.Output()\n",
        "\n",
        "    def on_change(change):\n",
        "        with output:\n",
        "            output.clear_output()\n",
        "            selected = change[\"new\"]\n",
        "            profile = USER_PROFILES[selected]\n",
        "            print(f\"Selected: {selected}\")\n",
        "            print(f\"Email: {profile['email']}\")\n",
        "            print(f\"Role: {profile['role']}\")\n",
        "\n",
        "    dropdown.observe(on_change, names=\"value\")\n",
        "    display(dropdown, output)\n",
        "    return dropdown\n"
      ],
      "metadata": {
        "colab": {
          "base_uri": "https://localhost:8080/"
        },
        "id": "H5lbC1EKK3Ke",
        "outputId": "6b014df7-98e9-4bc3-a1df-6c8775c07794"
      },
      "execution_count": 17,
      "outputs": [
        {
          "output_type": "stream",
          "name": "stdout",
          "text": [
            "Writing /content/FortiCryptX-Colab/ui/user_simulation.py\n"
          ]
        }
      ]
    },
    {
      "cell_type": "markdown",
      "source": [
        "challenge_response.py"
      ],
      "metadata": {
        "id": "RNOOzVA5VUqS"
      }
    },
    {
      "cell_type": "code",
      "source": [
        "%%writefile /content/FortiCryptX-Colab/ui/challenge_response.py\n",
        "import ipywidgets as widgets\n",
        "from IPython.display import display\n",
        "\n",
        "def challenge_response_auth(expected_answer, callback_on_success):\n",
        "    question = \"What is your decryption passphrase?\"\n",
        "    input_box = widgets.Text(description=\"Passphrase:\", placeholder='Enter passphrase...', layout=widgets.Layout(width='50%'))\n",
        "    button = widgets.Button(description=\"✔️ Submit\")\n",
        "    output = widgets.Output()\n",
        "\n",
        "    def on_click(b):\n",
        "        with output:\n",
        "            output.clear_output()\n",
        "            if input_box.value == expected_answer:\n",
        "                print(\"✅ Authenticated. Proceeding...\")\n",
        "                callback_on_success()\n",
        "            else:\n",
        "                print(\"❌ Incorrect passphrase.\")\n",
        "\n",
        "    button.on_click(on_click)\n",
        "    display(widgets.VBox([widgets.Label(question), input_box, button, output]))\n"
      ],
      "metadata": {
        "colab": {
          "base_uri": "https://localhost:8080/"
        },
        "id": "bkqUB4LEK6ol",
        "outputId": "e469a8d8-fab6-484e-a64f-1562de041953"
      },
      "execution_count": 18,
      "outputs": [
        {
          "output_type": "stream",
          "name": "stdout",
          "text": [
            "Writing /content/FortiCryptX-Colab/ui/challenge_response.py\n"
          ]
        }
      ]
    },
    {
      "cell_type": "markdown",
      "source": [
        "# **audit_logger**"
      ],
      "metadata": {
        "id": "UpfGLwXaRNb-"
      }
    },
    {
      "cell_type": "markdown",
      "source": [
        "logger.py"
      ],
      "metadata": {
        "id": "dg21Nr9gVXd_"
      }
    },
    {
      "cell_type": "code",
      "source": [
        "%%writefile /content/FortiCryptX-Colab/audit_logger/logger.py\n",
        "import json\n",
        "from datetime import datetime\n",
        "import os\n",
        "\n",
        "LOG_FILE = \"/content/FortiCryptX-Colab/audit_logger/logs.json\"\n",
        "\n",
        "def log_event(event_type, details):\n",
        "    entry = {\n",
        "        \"timestamp\": datetime.utcnow().isoformat(),\n",
        "        \"event_type\": event_type,\n",
        "        \"details\": details\n",
        "    }\n",
        "    with open(LOG_FILE, \"a\") as f:\n",
        "        json.dump(entry, f)\n",
        "        f.write(\"\\n\")\n",
        "\n",
        "def read_logs():\n",
        "    if not os.path.exists(LOG_FILE):\n",
        "        return []\n",
        "    logs = []\n",
        "    with open(LOG_FILE, \"r\") as f:\n",
        "        for line in f:\n",
        "            try:\n",
        "                logs.append(json.loads(line.strip()))\n",
        "            except json.JSONDecodeError:\n",
        "                continue\n",
        "    return logs\n"
      ],
      "metadata": {
        "colab": {
          "base_uri": "https://localhost:8080/"
        },
        "id": "20SSlfILFovY",
        "outputId": "149c1b4b-4a0d-4f04-8186-b9132dee3067"
      },
      "execution_count": 19,
      "outputs": [
        {
          "output_type": "stream",
          "name": "stdout",
          "text": [
            "Writing /content/FortiCryptX-Colab/audit_logger/logger.py\n"
          ]
        }
      ]
    },
    {
      "cell_type": "markdown",
      "source": [
        "blockchain_logger.py"
      ],
      "metadata": {
        "id": "KoFHKbM7VaAO"
      }
    },
    {
      "cell_type": "code",
      "source": [
        "%%writefile /content/FortiCryptX-Colab/audit_logger/blockchain_logger.py\n",
        "import hashlib\n",
        "import time\n",
        "import json\n",
        "import os\n",
        "\n",
        "BLOCKCHAIN_FILE = \"/content/FortiCryptX-Colab/audit_logger/blockchain.json\"\n",
        "\n",
        "def compute_block_hash(block):\n",
        "    block_string = json.dumps(block, sort_keys=True).encode()\n",
        "    return hashlib.sha256(block_string).hexdigest()\n",
        "\n",
        "def get_last_block():\n",
        "    if not os.path.exists(BLOCKCHAIN_FILE) or os.stat(BLOCKCHAIN_FILE).st_size == 0:\n",
        "        return None\n",
        "    with open(BLOCKCHAIN_FILE, \"r\") as f:\n",
        "        chain = json.load(f)\n",
        "        return chain[-1]\n",
        "\n",
        "def create_block(event_type, data):\n",
        "    previous_block = get_last_block()\n",
        "    previous_hash = compute_block_hash(previous_block) if previous_block else \"0\" * 64\n",
        "    block = {\n",
        "        \"timestamp\": time.time(),\n",
        "        \"event_type\": event_type,\n",
        "        \"data\": data,\n",
        "        \"previous_hash\": previous_hash\n",
        "    }\n",
        "    block[\"hash\"] = compute_block_hash(block)\n",
        "    return block\n",
        "\n",
        "def add_block_to_chain(event_type, data):\n",
        "    block = create_block(event_type, data)\n",
        "    if not os.path.exists(BLOCKCHAIN_FILE):\n",
        "        chain = []\n",
        "    else:\n",
        "        with open(BLOCKCHAIN_FILE, \"r\") as f:\n",
        "            try:\n",
        "                chain = json.load(f)\n",
        "            except json.JSONDecodeError:\n",
        "                chain = []\n",
        "    chain.append(block)\n",
        "    with open(BLOCKCHAIN_FILE, \"w\") as f:\n",
        "        json.dump(chain, f, indent=2)\n"
      ],
      "metadata": {
        "colab": {
          "base_uri": "https://localhost:8080/"
        },
        "id": "FHIMo3ZVLaiq",
        "outputId": "9628952a-253f-4618-c837-1d3f10f98d7b"
      },
      "execution_count": 20,
      "outputs": [
        {
          "output_type": "stream",
          "name": "stdout",
          "text": [
            "Writing /content/FortiCryptX-Colab/audit_logger/blockchain_logger.py\n"
          ]
        }
      ]
    },
    {
      "cell_type": "markdown",
      "source": [
        "report_generator.py"
      ],
      "metadata": {
        "id": "MElzTEx3Vdt_"
      }
    },
    {
      "cell_type": "code",
      "source": [
        "%%writefile /content/FortiCryptX-Colab/audit_logger/report_generator.py\n",
        "import markdown\n",
        "import json\n",
        "from datetime import datetime\n",
        "from fpdf import FPDF\n",
        "\n",
        "LOG_FILE = \"/content/FortiCryptX-Colab/audit_logger/logs.json\"\n",
        "\n",
        "def generate_markdown_report(output_path=\"/content/audit_report.md\"):\n",
        "    with open(LOG_FILE) as f:\n",
        "        logs = [json.loads(line) for line in f.readlines()]\n",
        "\n",
        "    md_lines = [\"# 🔍 FortiCryptX Audit Report\", f\"**Generated:** {datetime.utcnow().isoformat()}\", \"---\"]\n",
        "    for log in logs:\n",
        "        md_lines.append(f\"### 🕒 {log['timestamp']}\")\n",
        "        md_lines.append(f\"**Type:** {log['event_type']}\")\n",
        "        md_lines.append(f\"**Details:** `{log['details']}`\")\n",
        "        md_lines.append(\"---\")\n",
        "\n",
        "    with open(output_path, \"w\") as f:\n",
        "        f.write(\"\\n\".join(md_lines))\n",
        "\n",
        "def generate_pdf_report(md_path=\"/content/audit_report.md\", pdf_path=\"/content/audit_report.pdf\"):\n",
        "    with open(md_path, \"r\") as f:\n",
        "        lines = f.readlines()\n",
        "\n",
        "    pdf = FPDF()\n",
        "    pdf.add_page()\n",
        "    pdf.set_font(\"Arial\", size=12)\n",
        "\n",
        "    for line in lines:\n",
        "        clean_line = line.strip().replace(\"**\", \"\").replace(\"#\", \"\").replace(\"`\", \"\")\n",
        "        if clean_line:\n",
        "            pdf.multi_cell(0, 10, clean_line)\n",
        "\n",
        "    pdf.output(pdf_path)\n"
      ],
      "metadata": {
        "colab": {
          "base_uri": "https://localhost:8080/"
        },
        "id": "iFlCJr2CLerq",
        "outputId": "14347574-f332-4a34-c447-93ea46717982"
      },
      "execution_count": 21,
      "outputs": [
        {
          "output_type": "stream",
          "name": "stdout",
          "text": [
            "Writing /content/FortiCryptX-Colab/audit_logger/report_generator.py\n"
          ]
        }
      ]
    },
    {
      "cell_type": "markdown",
      "source": [
        "# **pq_simulation**"
      ],
      "metadata": {
        "id": "Fl8x8I7MRYf-"
      }
    },
    {
      "cell_type": "markdown",
      "source": [
        "pq_hybrid.py"
      ],
      "metadata": {
        "id": "ev5mVBgPVgao"
      }
    },
    {
      "cell_type": "code",
      "source": [
        "%%writefile /content/FortiCryptX-Colab/pq_simulation/pq_hybrid.py\n",
        "import os\n",
        "import base64\n",
        "from cryptography.hazmat.primitives.asymmetric import rsa, padding as asympadding\n",
        "from cryptography.hazmat.primitives import hashes\n",
        "\n",
        "# Simulated PQ encryption (mocked with XOR and base64)\n",
        "def pq_encrypt(message, pq_key):\n",
        "    return base64.b64encode(bytes([b ^ pq_key[i % len(pq_key)] for i, b in enumerate(message)]))\n",
        "\n",
        "def pq_decrypt(ciphertext, pq_key):\n",
        "    data = base64.b64decode(ciphertext)\n",
        "    return bytes([b ^ pq_key[i % len(pq_key)] for i, b in enumerate(data)])\n",
        "\n",
        "def hybrid_encrypt(message, rsa_public_key, pq_key):\n",
        "    rsa_encrypted = rsa_public_key.encrypt(\n",
        "        message,\n",
        "        asympadding.OAEP(\n",
        "            mgf=asympadding.MGF1(algorithm=hashes.SHA256()),\n",
        "            algorithm=hashes.SHA256(),\n",
        "            label=None\n",
        "        )\n",
        "    )\n",
        "    pq_encrypted = pq_encrypt(rsa_encrypted, pq_key)\n",
        "    return pq_encrypted\n",
        "\n",
        "def hybrid_decrypt(ciphertext, rsa_private_key, pq_key):\n",
        "    rsa_encrypted = pq_decrypt(ciphertext, pq_key)\n",
        "    decrypted = rsa_private_key.decrypt(\n",
        "        rsa_encrypted,\n",
        "        asympadding.OAEP(\n",
        "            mgf=asympadding.MGF1(algorithm=hashes.SHA256()),\n",
        "            algorithm=hashes.SHA256(),\n",
        "            label=None\n",
        "        )\n",
        "    )\n",
        "    return decrypted\n"
      ],
      "metadata": {
        "colab": {
          "base_uri": "https://localhost:8080/"
        },
        "id": "Ym_wU5RyLuAc",
        "outputId": "0f4f976c-20bb-4266-a702-a2387699852c"
      },
      "execution_count": 22,
      "outputs": [
        {
          "output_type": "stream",
          "name": "stdout",
          "text": [
            "Writing /content/FortiCryptX-Colab/pq_simulation/pq_hybrid.py\n"
          ]
        }
      ]
    },
    {
      "cell_type": "markdown",
      "source": [
        "pq_key_exchange.py"
      ],
      "metadata": {
        "id": "YevWDjZeVjbH"
      }
    },
    {
      "cell_type": "code",
      "source": [
        "%%writefile /content/FortiCryptX-Colab/pq_simulation/pq_key_exchange.py\n",
        "import os\n",
        "import hashlib\n",
        "\n",
        "# Simulate Kyber-style key encapsulation (using shared random keys)\n",
        "def generate_pq_keys():\n",
        "    private_key = os.urandom(32)\n",
        "    public_key = hashlib.sha256(private_key).digest()\n",
        "    return public_key, private_key\n",
        "\n",
        "def encapsulate_key(public_key):\n",
        "    shared_secret = os.urandom(32)\n",
        "    encrypted_secret = bytes([b ^ public_key[i % len(public_key)] for i, b in enumerate(shared_secret)])\n",
        "    return shared_secret, encrypted_secret\n",
        "\n",
        "def decapsulate_key(encrypted_secret, private_key):\n",
        "    public_key = hashlib.sha256(private_key).digest()\n",
        "    shared_secret = bytes([b ^ public_key[i % len(public_key)] for i, b in enumerate(encrypted_secret)])\n",
        "    return shared_secret\n"
      ],
      "metadata": {
        "colab": {
          "base_uri": "https://localhost:8080/"
        },
        "id": "_ylSVWTtL0wQ",
        "outputId": "7a1d2d5e-43c8-42ee-872f-e5df5a345a20"
      },
      "execution_count": 23,
      "outputs": [
        {
          "output_type": "stream",
          "name": "stdout",
          "text": [
            "Writing /content/FortiCryptX-Colab/pq_simulation/pq_key_exchange.py\n"
          ]
        }
      ]
    },
    {
      "cell_type": "markdown",
      "source": [
        "threat_model.py"
      ],
      "metadata": {
        "id": "66f2nTMmVlLX"
      }
    },
    {
      "cell_type": "code",
      "source": [
        "%%writefile /content/FortiCryptX-Colab/pq_simulation/threat_model.py\n",
        "import time\n",
        "import random\n",
        "\n",
        "def benchmark_symmetric():\n",
        "    start = time.time()\n",
        "    _ = [random.getrandbits(128) for _ in range(100000)]\n",
        "    return time.time() - start\n",
        "\n",
        "def benchmark_rsa():\n",
        "    time.sleep(0.3)  # Simulated delay\n",
        "    return 0.3\n",
        "\n",
        "def benchmark_pq():\n",
        "    time.sleep(0.5)  # Simulated PQ algorithm latency\n",
        "    return 0.5\n",
        "\n",
        "def run_threat_comparison():\n",
        "    symmetric = benchmark_symmetric()\n",
        "    rsa = benchmark_rsa()\n",
        "    pq = benchmark_pq()\n",
        "\n",
        "    print(\"🔐 Threat Model Benchmark:\")\n",
        "    print(f\"Symmetric (AES-like) Ops Time: {symmetric:.4f}s\")\n",
        "    print(f\"Traditional RSA Ops Time    : {rsa:.4f}s\")\n",
        "    print(f\"Post-Quantum (PQ Sim) Time  : {pq:.4f}s\")\n",
        "\n",
        "    print(\"\\n📉 Relative Resistance Summary:\")\n",
        "    print(\" - RSA: Vulnerable to Shor’s Algorithm (Quantum threat)\")\n",
        "    print(\" - PQ (Kyber/Dilithium): Resistant to known quantum attacks\")\n",
        "    print(\" - AES: Key-length based resistance; 256-bit recommended\")\n",
        "\n",
        "if __name__ == \"__main__\":\n",
        "    run_threat_comparison()\n"
      ],
      "metadata": {
        "colab": {
          "base_uri": "https://localhost:8080/"
        },
        "id": "JVI_9qfYL6wo",
        "outputId": "800e28d8-8cb5-4bed-ea56-b8715850caa9"
      },
      "execution_count": 24,
      "outputs": [
        {
          "output_type": "stream",
          "name": "stdout",
          "text": [
            "Writing /content/FortiCryptX-Colab/pq_simulation/threat_model.py\n"
          ]
        }
      ]
    },
    {
      "cell_type": "markdown",
      "source": [
        "# **benchmarking**"
      ],
      "metadata": {
        "id": "eFsOaX7vRmHG"
      }
    },
    {
      "cell_type": "markdown",
      "source": [
        "benchmark.py"
      ],
      "metadata": {
        "id": "86GPI0u-VnV6"
      }
    },
    {
      "cell_type": "code",
      "source": [
        "%%writefile /content/FortiCryptX-Colab/benchmarking/benchmark.py\n",
        "import time\n",
        "import os\n",
        "from crypto_engine.hybrid_crypto import encrypt_file, decrypt_file\n",
        "\n",
        "def benchmark_encryption_algorithms(input_file, public_key, private_key):\n",
        "    results = {}\n",
        "    start = time.time()\n",
        "    encrypt_file(input_file, public_key, \"test.enc\")\n",
        "    end = time.time()\n",
        "    results[\"encryption_time\"] = end - start\n",
        "\n",
        "    start = time.time()\n",
        "    decrypt_file(\"test.enc\", private_key, \"test.dec\")\n",
        "    end = time.time()\n",
        "    results[\"decryption_time\"] = end - start\n",
        "\n",
        "    results[\"file_size_kb\"] = os.path.getsize(input_file) / 1024\n",
        "    return results\n",
        "\n",
        "def generate_benchmark_report():\n",
        "    print(\"Benchmarking complete. Compare times and file sizes in your notebook output.\")\n"
      ],
      "metadata": {
        "colab": {
          "base_uri": "https://localhost:8080/"
        },
        "id": "YoErtvjpFr8D",
        "outputId": "34b55aee-744e-4ab7-8631-76a4d12a8af3"
      },
      "execution_count": 25,
      "outputs": [
        {
          "output_type": "stream",
          "name": "stdout",
          "text": [
            "Writing /content/FortiCryptX-Colab/benchmarking/benchmark.py\n"
          ]
        }
      ]
    },
    {
      "cell_type": "markdown",
      "source": [
        "threat_table.py"
      ],
      "metadata": {
        "id": "Uf5DU-D4Vp09"
      }
    },
    {
      "cell_type": "code",
      "source": [
        "%%writefile /content/FortiCryptX-Colab/benchmarking/threat_table.py\n",
        "from tabulate import tabulate\n",
        "\n",
        "def get_threat_summary():\n",
        "    threats = [\n",
        "        {\n",
        "            \"Threat Vector\": \"Brute Force\",\n",
        "            \"Target\": \"AES Key / Password\",\n",
        "            \"Mitigation\": \"256-bit AES + PBKDF2/bcrypt with salt and iterations\"\n",
        "        },\n",
        "        {\n",
        "            \"Threat Vector\": \"Key Interception\",\n",
        "            \"Target\": \"AES Key in Transit\",\n",
        "            \"Mitigation\": \"ECIES Hybrid Encryption, ECDH Key Exchange\"\n",
        "        },\n",
        "        {\n",
        "            \"Threat Vector\": \"Quantum Attacks\",\n",
        "            \"Target\": \"RSA Encryption\",\n",
        "            \"Mitigation\": \"Simulated PQ Hybrid Encryption (Kyber/Dilithium)\"\n",
        "        },\n",
        "        {\n",
        "            \"Threat Vector\": \"File Tampering\",\n",
        "            \"Target\": \"Stored Files\",\n",
        "            \"Mitigation\": \"SHA-256 Integrity Verification + Tamper Detection\"\n",
        "        },\n",
        "        {\n",
        "            \"Threat Vector\": \"Unauthorized Access\",\n",
        "            \"Target\": \"Files/Keys\",\n",
        "            \"Mitigation\": \"Challenge-Response Auth + Session Persistence\"\n",
        "        },\n",
        "        {\n",
        "            \"Threat Vector\": \"Forensic Recovery\",\n",
        "            \"Target\": \"Deleted Sensitive Files\",\n",
        "            \"Mitigation\": \"Multi-pass File Shredder (DoD standard)\"\n",
        "        },\n",
        "        {\n",
        "            \"Threat Vector\": \"Audit Manipulation\",\n",
        "            \"Target\": \"Logs/History\",\n",
        "            \"Mitigation\": \"Immutable JSON Logs + Optional Blockchain Anchoring\"\n",
        "        },\n",
        "        {\n",
        "            \"Threat Vector\": \"Cloud Leakage\",\n",
        "            \"Target\": \"GDrive Files\",\n",
        "            \"Mitigation\": \"On-device Encryption + Manual Upload/Download\"\n",
        "        }\n",
        "    ]\n",
        "    return tabulate(threats, headers=\"keys\", tablefmt=\"grid\")\n",
        "\n",
        "if __name__ == \"__main__\":\n",
        "    print(get_threat_summary())\n"
      ],
      "metadata": {
        "colab": {
          "base_uri": "https://localhost:8080/"
        },
        "id": "tppspxO7MYyT",
        "outputId": "956f5ff0-61c9-4542-fb5a-1b8823523f64"
      },
      "execution_count": 26,
      "outputs": [
        {
          "output_type": "stream",
          "name": "stdout",
          "text": [
            "Writing /content/FortiCryptX-Colab/benchmarking/threat_table.py\n"
          ]
        }
      ]
    },
    {
      "cell_type": "code",
      "source": [
        "!pip install cryptography\n",
        "\n",
        "import os\n",
        "import sys\n",
        "\n",
        "# Create directory structure if not present\n",
        "base_dir = \"/content/FortiCryptX-Colab\"\n",
        "sys.path.append(base_dir)\n",
        "\n",
        "folders = [\n",
        "    \"crypto_engine\", \"key_management\", \"security_tools\",\n",
        "    \"cloud_integration\", \"ui\", \"audit_logger\",\n",
        "    \"pq_simulation\", \"benchmarking\"\n",
        "]\n",
        "\n",
        "for folder in folders:\n",
        "    os.makedirs(os.path.join(base_dir, folder), exist_ok=True)\n",
        "    open(os.path.join(base_dir, folder, \"__init__.py\"), 'w').close()\n"
      ],
      "metadata": {
        "colab": {
          "base_uri": "https://localhost:8080/"
        },
        "id": "9jY49BrpCcm3",
        "outputId": "ade5c12c-90a5-454c-a952-eed62c6d2d74"
      },
      "execution_count": 27,
      "outputs": [
        {
          "output_type": "stream",
          "name": "stdout",
          "text": [
            "Requirement already satisfied: cryptography in /usr/local/lib/python3.11/dist-packages (43.0.3)\n",
            "Requirement already satisfied: cffi>=1.12 in /usr/local/lib/python3.11/dist-packages (from cryptography) (1.17.1)\n",
            "Requirement already satisfied: pycparser in /usr/local/lib/python3.11/dist-packages (from cffi>=1.12->cryptography) (2.22)\n"
          ]
        }
      ]
    },
    {
      "cell_type": "code",
      "source": [
        "%%writefile /content/FortiCryptX-Colab/main.ipynb\n",
        "{\n",
        " \"cells\": [\n",
        "  {\n",
        "   \"cell_type\": \"code\",\n",
        "   \"execution_count\": null,\n",
        "   \"metadata\": {},\n",
        "   \"outputs\": [],\n",
        "   \"source\": [\n",
        "    \"# FortiCryptX-Colab: Main Entry Point\\\\n\",\n",
        "    \"from crypto_engine.hybrid_crypto import encrypt_file, decrypt_file\\\\n\",\n",
        "    \"from key_management.key_manager import generate_keys\\\\n\",\n",
        "    \"from security_tools.hash_integrity import compute_sha256, verify_file_integrity\\\\n\",\n",
        "    \"from audit_logger.logger import log_event\\\\n\",\n",
        "    \"from ui.colab_ui import launch_ui\\\\n\",\n",
        "    \"\\\\n\",\n",
        "    \"# Initial setup\\\\n\",\n",
        "    \"print(\\\\\\\"🔐 FortiCryptX-Colab Loaded. Use launch_ui() to begin.\\\\\\\")\"\n",
        "   ]\n",
        "  }\n",
        " ],\n",
        " \"metadata\": {\n",
        "  \"kernelspec\": {\n",
        "   \"display_name\": \"Python 3\",\n",
        "   \"language\": \"python\",\n",
        "   \"name\": \"python3\"\n",
        "  },\n",
        "  \"language_info\": {\n",
        "   \"name\": \"python\",\n",
        "   \"version\": \"3.10\"\n",
        "  }\n",
        " },\n",
        " \"nbformat\": 4,\n",
        " \"nbformat_minor\": 2\n",
        "}\n",
        "\"\"\"\n",
        "\n",
        "with open(\"/content/write_main_script.py\", \"w\") as f:\n",
        "    f.write(\"%%writefile /content/FortiCryptX-Colab/main.ipynb\\n\")\n",
        "    f.write(notebook_code.split('\\n', 1)[1])  # Skip first line already included\n"
      ],
      "metadata": {
        "colab": {
          "base_uri": "https://localhost:8080/"
        },
        "id": "8_w-ubNpNAIJ",
        "outputId": "f22236db-f307-4081-e395-f0e52bbf41bb"
      },
      "execution_count": 28,
      "outputs": [
        {
          "output_type": "stream",
          "name": "stdout",
          "text": [
            "Overwriting /content/FortiCryptX-Colab/main.ipynb\n"
          ]
        }
      ]
    }
  ]
}